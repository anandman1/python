{
 "cells": [
  {
   "cell_type": "markdown",
   "metadata": {},
   "source": [
    "## Pandas Series\n",
    "A Pandas Series is a one-dimensional labeled array capable of holding any data type (integers, floats, strings, objects, etc.). It is similar to a column in an Excel sheet or a dictionary where each value has an index."
   ]
  },
  {
   "cell_type": "code",
   "execution_count": 1,
   "metadata": {},
   "outputs": [
    {
     "data": {
      "text/plain": [
       "0    10\n",
       "1    20\n",
       "2    30\n",
       "3    40\n",
       "4    50\n",
       "dtype: int64"
      ]
     },
     "execution_count": 1,
     "metadata": {},
     "output_type": "execute_result"
    }
   ],
   "source": [
    "#Creating a Series\n",
    "import pandas as pd\n",
    "data = [10,20,30,40,50]\n",
    "s = pd.Series(data)\n",
    "s"
   ]
  },
  {
   "cell_type": "code",
   "execution_count": 2,
   "metadata": {},
   "outputs": [
    {
     "data": {
      "text/plain": [
       "a    10\n",
       "b    20\n",
       "c    30\n",
       "d    40\n",
       "e    50\n",
       "dtype: int64"
      ]
     },
     "execution_count": 2,
     "metadata": {},
     "output_type": "execute_result"
    }
   ],
   "source": [
    "#Custom Indexing\n",
    "#You can assign custom indexes instead of the default numerical ones.\n",
    "s = pd.Series([10,20,30,40,50], index = ['a','b','c','d','e'])\n",
    "s "
   ]
  },
  {
   "cell_type": "code",
   "execution_count": 8,
   "metadata": {},
   "outputs": [
    {
     "name": "stdout",
     "output_type": "stream",
     "text": [
      "10\n",
      "10\n",
      "10\n",
      "10\n"
     ]
    },
    {
     "name": "stderr",
     "output_type": "stream",
     "text": [
      "C:\\Users\\anand\\AppData\\Local\\Temp\\ipykernel_7956\\3898726188.py:2: FutureWarning: Series.__getitem__ treating keys as positions is deprecated. In a future version, integer keys will always be treated as labels (consistent with DataFrame behavior). To access a value by position, use `ser.iloc[pos]`\n",
      "  print(s[0])\n"
     ]
    }
   ],
   "source": [
    "#Accessing Elements\n",
    "print(s[0])\n",
    "print(s['a'])\n",
    "print(s.iloc[0])\n",
    "print(s.loc['a'])"
   ]
  },
  {
   "cell_type": "code",
   "execution_count": 9,
   "metadata": {},
   "outputs": [
    {
     "data": {
      "text/plain": [
       "a    100\n",
       "b    200\n",
       "c    300\n",
       "dtype: int64"
      ]
     },
     "execution_count": 9,
     "metadata": {},
     "output_type": "execute_result"
    }
   ],
   "source": [
    "#create from a dictionary\n",
    "data = {'a': 100, 'b': 200, 'c': 300}\n",
    "s = pd.Series(data)\n",
    "s"
   ]
  },
  {
   "cell_type": "code",
   "execution_count": 10,
   "metadata": {},
   "outputs": [
    {
     "name": "stdout",
     "output_type": "stream",
     "text": [
      "0    1\n",
      "1    2\n",
      "2    3\n",
      "3    4\n",
      "dtype: int64\n"
     ]
    }
   ],
   "source": [
    "#create from np array\n",
    "import numpy as np\n",
    "arr = np.array([1, 2, 3, 4])\n",
    "s = pd.Series(arr)\n",
    "print(s)"
   ]
  },
  {
   "cell_type": "code",
   "execution_count": 11,
   "metadata": {},
   "outputs": [
    {
     "name": "stdout",
     "output_type": "stream",
     "text": [
      "a    5\n",
      "b    5\n",
      "c    5\n",
      "d    5\n",
      "dtype: int64\n"
     ]
    }
   ],
   "source": [
    "#Create From a Scalar Value (Same Value for All Indexes)\n",
    "s = pd.Series(5, index=['a', 'b', 'c', 'd'])\n",
    "print(s)\n"
   ]
  },
  {
   "cell_type": "code",
   "execution_count": 13,
   "metadata": {},
   "outputs": [
    {
     "name": "stdout",
     "output_type": "stream",
     "text": [
      "Index(['a', 'b', 'c'], dtype='object')\n",
      "[10 20 30]\n",
      "int64\n",
      "(3,)\n",
      "3\n",
      "1\n"
     ]
    }
   ],
   "source": [
    "#series attributes:\n",
    "s = pd.Series([10, 20, 30], index=['a', 'b', 'c'])\n",
    "\n",
    "print(s.index)     # Index labels\n",
    "print(s.values)    # Values as NumPy array\n",
    "print(s.dtype)     # Data type of elements\n",
    "print(s.shape)     # Shape of the Series\n",
    "print(s.size)      # Total number of elements\n",
    "print(s.ndim)"
   ]
  },
  {
   "cell_type": "code",
   "execution_count": 14,
   "metadata": {},
   "outputs": [
    {
     "name": "stdout",
     "output_type": "stream",
     "text": [
      "0    5\n",
      "1    7\n",
      "2    9\n",
      "dtype: int64\n",
      "0   -3\n",
      "1   -3\n",
      "2   -3\n",
      "dtype: int64\n",
      "0     4\n",
      "1    10\n",
      "2    18\n",
      "dtype: int64\n",
      "0    0.25\n",
      "1    0.40\n",
      "2    0.50\n",
      "dtype: float64\n"
     ]
    }
   ],
   "source": [
    "#Arithmetic Operations\n",
    "s1 = pd.Series([1, 2, 3])\n",
    "s2 = pd.Series([4, 5, 6])\n",
    "\n",
    "print(s1 + s2)  # Element-wise addition\n",
    "print(s1 - s2)  # Element-wise subtraction\n",
    "print(s1 * s2)  # Element-wise multiplication\n",
    "print(s1 / s2)  # Element-wise division\n"
   ]
  },
  {
   "cell_type": "code",
   "execution_count": 15,
   "metadata": {},
   "outputs": [
    {
     "name": "stdout",
     "output_type": "stream",
     "text": [
      "0    1.0\n",
      "1    2.0\n",
      "2    3.0\n",
      "3    4.0\n",
      "dtype: float64\n",
      "0    0.000000\n",
      "1    1.386294\n",
      "2    2.197225\n",
      "3    2.772589\n",
      "dtype: float64\n",
      "0    2.718282e+00\n",
      "1    5.459815e+01\n",
      "2    8.103084e+03\n",
      "3    8.886111e+06\n",
      "dtype: float64\n"
     ]
    }
   ],
   "source": [
    "# Using NumPy Functions\n",
    "import numpy as np\n",
    "s = pd.Series([1, 4, 9, 16])\n",
    "\n",
    "print(np.sqrt(s))  # Square root\n",
    "print(np.log(s))   # Logarithm\n",
    "print(np.exp(s))   # Exponential\n"
   ]
  },
  {
   "cell_type": "code",
   "execution_count": null,
   "metadata": {},
   "outputs": [
    {
     "name": "stdout",
     "output_type": "stream",
     "text": [
      "2    30\n",
      "3    40\n",
      "4    50\n",
      "dtype: int64\n",
      "<bound method Series.reset_index of 1    20\n",
      "2    30\n",
      "3    40\n",
      "dtype: int64>\n",
      "0    10\n",
      "1    20\n",
      "2    30\n",
      "3    40\n",
      "4    50\n",
      "dtype: int64\n"
     ]
    }
   ],
   "source": [
    "#Filtering and Conditional Selection\n",
    "s = pd.Series([10, 20, 30, 40, 50])\n",
    "\n",
    "print(s[s > 25])  # Filter values greater than 25\n",
    "print(s[(s > 15) & (s < 45)].reset_index)  # Multiple conditions - reset index is not inplace\n",
    "print(s)"
   ]
  },
  {
   "cell_type": "code",
   "execution_count": 19,
   "metadata": {},
   "outputs": [
    {
     "name": "stdout",
     "output_type": "stream",
     "text": [
      "0    False\n",
      "1    False\n",
      "2     True\n",
      "3    False\n",
      "4     True\n",
      "dtype: bool\n",
      "0     True\n",
      "1     True\n",
      "2    False\n",
      "3     True\n",
      "4    False\n",
      "dtype: bool\n"
     ]
    }
   ],
   "source": [
    "# Handling Missing Values\n",
    "# Detecting Missing Values\n",
    "\n",
    "s = pd.Series([1, 2, None, 4, np.nan])\n",
    "\n",
    "print(s.isnull())  # Checks for NaN values\n",
    "print(s.notnull()) # Checks for non-NaN values\n"
   ]
  },
  {
   "cell_type": "code",
   "execution_count": null,
   "metadata": {},
   "outputs": [
    {
     "name": "stdout",
     "output_type": "stream",
     "text": [
      "0    1.0\n",
      "1    2.0\n",
      "2    0.0\n",
      "3    4.0\n",
      "4    0.0\n",
      "dtype: float64\n",
      "0    1.0\n",
      "1    2.0\n",
      "2    NaN\n",
      "3    4.0\n",
      "4    NaN\n",
      "dtype: float64\n"
     ]
    }
   ],
   "source": [
    "print(s.fillna(0)) # Replace NaN with 0 but fillna is not inplace\n",
    "print(s)\n"
   ]
  },
  {
   "cell_type": "code",
   "execution_count": 24,
   "metadata": {},
   "outputs": [
    {
     "name": "stdout",
     "output_type": "stream",
     "text": [
      "0    1.0\n",
      "1    2.0\n",
      "3    4.0\n",
      "dtype: float64\n",
      "0    1.0\n",
      "1    2.0\n",
      "2    NaN\n",
      "3    4.0\n",
      "4    NaN\n",
      "dtype: float64\n"
     ]
    }
   ],
   "source": [
    "# dropping missing values\n",
    "print(s.dropna())  # Removes NaN values\n",
    "\n",
    "print(s)  # Removes NaN values\n"
   ]
  },
  {
   "cell_type": "code",
   "execution_count": 25,
   "metadata": {},
   "outputs": [
    {
     "data": {
      "text/html": [
       "<div>\n",
       "<style scoped>\n",
       "    .dataframe tbody tr th:only-of-type {\n",
       "        vertical-align: middle;\n",
       "    }\n",
       "\n",
       "    .dataframe tbody tr th {\n",
       "        vertical-align: top;\n",
       "    }\n",
       "\n",
       "    .dataframe thead th {\n",
       "        text-align: right;\n",
       "    }\n",
       "</style>\n",
       "<table border=\"1\" class=\"dataframe\">\n",
       "  <thead>\n",
       "    <tr style=\"text-align: right;\">\n",
       "      <th></th>\n",
       "      <th>index</th>\n",
       "      <th>0</th>\n",
       "    </tr>\n",
       "  </thead>\n",
       "  <tbody>\n",
       "    <tr>\n",
       "      <th>0</th>\n",
       "      <td>0</td>\n",
       "      <td>1.0</td>\n",
       "    </tr>\n",
       "    <tr>\n",
       "      <th>1</th>\n",
       "      <td>1</td>\n",
       "      <td>2.0</td>\n",
       "    </tr>\n",
       "    <tr>\n",
       "      <th>2</th>\n",
       "      <td>3</td>\n",
       "      <td>4.0</td>\n",
       "    </tr>\n",
       "  </tbody>\n",
       "</table>\n",
       "</div>"
      ],
      "text/plain": [
       "   index    0\n",
       "0      0  1.0\n",
       "1      1  2.0\n",
       "2      3  4.0"
      ]
     },
     "execution_count": 25,
     "metadata": {},
     "output_type": "execute_result"
    }
   ],
   "source": [
    "s.dropna().reset_index()"
   ]
  },
  {
   "cell_type": "code",
   "execution_count": null,
   "metadata": {},
   "outputs": [
    {
     "name": "stdout",
     "output_type": "stream",
     "text": [
      "0    1.0\n",
      "1    2.0\n",
      "2    0.0\n",
      "3    4.0\n",
      "4    0.0\n",
      "dtype: float64\n"
     ]
    }
   ],
   "source": [
    "#using inplace \n",
    "s.fillna(0, inplace= True)\n",
    "print(s)"
   ]
  },
  {
   "cell_type": "code",
   "execution_count": 28,
   "metadata": {},
   "outputs": [
    {
     "name": "stdout",
     "output_type": "stream",
     "text": [
      "20\n",
      "a    10\n",
      "c    30\n",
      "dtype: int64\n"
     ]
    }
   ],
   "source": [
    "#Indexing and Slicing\n",
    "# Label-based Indexing\n",
    "s = pd.Series([10, 20, 30, 40], index=['a', 'b', 'c', 'd'])\n",
    "print(s['b'])      # Access single value\n",
    "print(s[['a', 'c']])  # Access multiple values\n"
   ]
  },
  {
   "cell_type": "code",
   "execution_count": 29,
   "metadata": {},
   "outputs": [
    {
     "name": "stdout",
     "output_type": "stream",
     "text": [
      "20\n",
      "b    20\n",
      "c    30\n",
      "dtype: int64\n"
     ]
    },
    {
     "name": "stderr",
     "output_type": "stream",
     "text": [
      "C:\\Users\\anand\\AppData\\Local\\Temp\\ipykernel_7956\\4111599173.py:2: FutureWarning: Series.__getitem__ treating keys as positions is deprecated. In a future version, integer keys will always be treated as labels (consistent with DataFrame behavior). To access a value by position, use `ser.iloc[pos]`\n",
      "  print(s[1])        # Access second element\n"
     ]
    }
   ],
   "source": [
    "#Position-based Indexing\n",
    "print(s[1])        # Access second element\n",
    "print(s[1:3])      # Slice elements (inclusive of start, exclusive of end)\n"
   ]
  },
  {
   "cell_type": "code",
   "execution_count": 30,
   "metadata": {},
   "outputs": [
    {
     "name": "stdout",
     "output_type": "stream",
     "text": [
      "20\n",
      "20\n"
     ]
    }
   ],
   "source": [
    "#Using .loc[] and .iloc[]\n",
    "print(s.loc['b'])  # Label-based access\n",
    "print(s.iloc[1])   # Position-based access\n"
   ]
  },
  {
   "cell_type": "code",
   "execution_count": 32,
   "metadata": {},
   "outputs": [
    {
     "name": "stdout",
     "output_type": "stream",
     "text": [
      "b    10\n",
      "c    20\n",
      "a    30\n",
      "dtype: int64\n",
      "a    30\n",
      "c    20\n",
      "b    10\n",
      "dtype: int64\n",
      "a    30\n",
      "b    10\n",
      "c    20\n",
      "dtype: int64\n"
     ]
    }
   ],
   "source": [
    "#Sorting a Series\n",
    "#Sorting by Values\n",
    "s = pd.Series([30, 10, 20], index=['a', 'b', 'c'])\n",
    "print(s.sort_values())  # Sort in ascending order\n",
    "print(s.sort_values(ascending=False))  # Sort in descending order\n",
    "\n",
    "#sorting by index\n",
    "print(s.sort_index())  # Sort by index\n",
    "\n"
   ]
  },
  {
   "cell_type": "code",
   "execution_count": 35,
   "metadata": {},
   "outputs": [
    {
     "name": "stdout",
     "output_type": "stream",
     "text": [
      "0     1\n",
      "1     4\n",
      "2     9\n",
      "3    16\n",
      "4    25\n",
      "dtype: int64\n",
      "0     1\n",
      "1     4\n",
      "2     9\n",
      "3    16\n",
      "4    25\n",
      "dtype: int64\n",
      "0       1\n",
      "1       4\n",
      "2      27\n",
      "3      16\n",
      "4    3125\n",
      "dtype: int64\n"
     ]
    }
   ],
   "source": [
    "#Applying Functions with .apply()\n",
    "s = pd.Series([1, 2, 3, 4, 5])\n",
    "\n",
    "def square(x):\n",
    "    return x ** 2\n",
    "\n",
    "print(s.apply(square))  # Apply function to each element\n",
    "print(s.apply(lambda x: x ** 2))  # Using lambda function\n",
    "# Apply lambda function with a condition\n",
    "result = s.apply(lambda x: x ** 2 if x % 2 == 0 else x**x)\n",
    "print(result)"
   ]
  },
  {
   "cell_type": "code",
   "execution_count": 38,
   "metadata": {},
   "outputs": [
    {
     "name": "stdout",
     "output_type": "stream",
     "text": [
      "[1 2 3 4 5]\n",
      "5\n",
      "new :\n",
      " 4    3\n",
      "2    2\n",
      "1    1\n",
      "3    1\n",
      "5    1\n",
      "Name: count, dtype: int64\n"
     ]
    }
   ],
   "source": [
    "#Working with Unique Values\n",
    "s = pd.Series([1, 2, 2, 3, 4, 4, 4, 5])\n",
    "\n",
    "print(s.unique())  # Get unique values\n",
    "print(s.nunique()) # Count of unique values\n",
    "print(\"new :\\n\", s.value_counts()) # Frequency of each value\n"
   ]
  },
  {
   "cell_type": "code",
   "execution_count": 40,
   "metadata": {},
   "outputs": [
    {
     "name": "stdout",
     "output_type": "stream",
     "text": [
      "0        APPLE\n",
      "1      BANANA \n",
      "2     CHERRY  \n",
      "dtype: object\n",
      "0     True\n",
      "1     True\n",
      "2    False\n",
      "dtype: bool\n",
      "0        @pple\n",
      "1      b@n@n@ \n",
      "2     cherry  \n",
      "dtype: object\n",
      "0     apple\n",
      "1    banana\n",
      "2    cherry\n",
      "dtype: object\n",
      "0        Apple\n",
      "1      Banana \n",
      "2     Cherry  \n",
      "dtype: object\n"
     ]
    }
   ],
   "source": [
    "#String Operations on Series\n",
    "s = pd.Series([\"apple\", \"  banana \", \"cherry  \"])\n",
    "\n",
    "print(s.str.upper())   # Convert to uppercase\n",
    "print(s.str.contains('a'))  # Check if contains 'a'\n",
    "print(s.str.replace('a', '@'))  # Replace 'a' with '@'\n",
    "print(s.str.strip()) #removes starting and trailing blank spaces\n",
    "print(s.str.title())\n"
   ]
  },
  {
   "cell_type": "code",
   "execution_count": 41,
   "metadata": {},
   "outputs": [
    {
     "name": "stdout",
     "output_type": "stream",
     "text": [
      "2024-01-01    72\n",
      "2024-01-02    78\n",
      "2024-01-03    80\n",
      "2024-01-04    26\n",
      "2024-01-05    24\n",
      "Freq: D, dtype: int32\n",
      "2024-05-25    88\n",
      "2024-05-26    66\n",
      "2024-05-27    21\n",
      "2024-05-28    50\n",
      "2024-05-29    56\n",
      "Freq: D, dtype: int32\n"
     ]
    }
   ],
   "source": [
    "#working with date time\n",
    "import pandas as pd\n",
    "\n",
    "# Create a date range for 5 months\n",
    "dates = pd.date_range('2024-01-01', periods=150, freq='D')  # Approx. 5 months\n",
    "\n",
    "# Create a Series with random values\n",
    "import numpy as np\n",
    "s = pd.Series(np.random.randint(10, 100, size=len(dates)), index=dates)\n",
    "\n",
    "# Print the first few rows\n",
    "print(s.head())  # Show first few entries\n",
    "print(s.tail())  # Show last few entries\n"
   ]
  },
  {
   "cell_type": "code",
   "execution_count": 54,
   "metadata": {},
   "outputs": [
    {
     "name": "stdout",
     "output_type": "stream",
     "text": [
      "98\n"
     ]
    }
   ],
   "source": [
    "#filter for a given date index\n",
    "print(s['2024-03-10'])"
   ]
  },
  {
   "cell_type": "code",
   "execution_count": 45,
   "metadata": {},
   "outputs": [
    {
     "name": "stdout",
     "output_type": "stream",
     "text": [
      "2024-04-01    35\n",
      "2024-04-02    28\n",
      "2024-04-03    26\n",
      "2024-04-04    94\n",
      "2024-04-05    49\n",
      "2024-04-06    29\n",
      "2024-04-07    87\n",
      "2024-04-08    23\n",
      "2024-04-09    57\n",
      "2024-04-10    52\n",
      "2024-04-11    82\n",
      "2024-04-12    33\n",
      "2024-04-13    28\n",
      "2024-04-14    22\n",
      "2024-04-15    14\n",
      "2024-04-16    78\n",
      "2024-04-17    68\n",
      "2024-04-18    85\n",
      "2024-04-19    35\n",
      "2024-04-20    18\n",
      "2024-04-21    22\n",
      "2024-04-22    66\n",
      "2024-04-23    67\n",
      "2024-04-24    26\n",
      "2024-04-25    33\n",
      "2024-04-26    20\n",
      "2024-04-27    89\n",
      "2024-04-28    92\n",
      "2024-04-29    90\n",
      "2024-04-30    42\n",
      "Freq: D, dtype: int32\n"
     ]
    }
   ],
   "source": [
    "#Filtering for Specific Date Ranges\n",
    "#1. Filter for a Specific Month (e.g., April 2024)\n",
    "april_data = s['2024-04']\n",
    "print(april_data)\n"
   ]
  },
  {
   "cell_type": "code",
   "execution_count": 46,
   "metadata": {},
   "outputs": [
    {
     "name": "stdout",
     "output_type": "stream",
     "text": [
      "2024-03-10    98\n",
      "2024-03-11    14\n",
      "2024-03-12    33\n",
      "2024-03-13    50\n",
      "2024-03-14    77\n",
      "2024-03-15    77\n",
      "2024-03-16    39\n",
      "2024-03-17    52\n",
      "2024-03-18    55\n",
      "2024-03-19    92\n",
      "2024-03-20    63\n",
      "2024-03-21    17\n",
      "2024-03-22    14\n",
      "2024-03-23    84\n",
      "2024-03-24    86\n",
      "2024-03-25    88\n",
      "2024-03-26    91\n",
      "2024-03-27    14\n",
      "2024-03-28    28\n",
      "2024-03-29    47\n",
      "2024-03-30    31\n",
      "2024-03-31    13\n",
      "2024-04-01    35\n",
      "2024-04-02    28\n",
      "2024-04-03    26\n",
      "2024-04-04    94\n",
      "2024-04-05    49\n",
      "Freq: D, dtype: int32\n"
     ]
    }
   ],
   "source": [
    "#2. Filter for a Specific Date Range (e.g., March 10 to April 5, 2024)\n",
    "march_to_april = s['2024-03-10':'2024-04-05']\n",
    "print(march_to_april)\n"
   ]
  },
  {
   "cell_type": "code",
   "execution_count": 47,
   "metadata": {},
   "outputs": [
    {
     "name": "stdout",
     "output_type": "stream",
     "text": [
      "2024-01-15    86\n",
      "2024-02-15    68\n",
      "2024-03-15    77\n",
      "2024-04-15    14\n",
      "2024-05-15    16\n",
      "dtype: int32\n"
     ]
    }
   ],
   "source": [
    "#3. Filter for Specific Days of a Month (e.g., All 15th of Each Month)\n",
    "fifteenths = s[s.index.day == 15]\n",
    "print(fifteenths)\n"
   ]
  },
  {
   "cell_type": "code",
   "execution_count": 48,
   "metadata": {},
   "outputs": [
    {
     "name": "stdout",
     "output_type": "stream",
     "text": [
      "2024-01-01    72\n",
      "2024-01-08    83\n",
      "2024-01-15    86\n",
      "2024-01-22    87\n",
      "2024-01-29    37\n",
      "2024-02-05    81\n",
      "2024-02-12    79\n",
      "2024-02-19    52\n",
      "2024-02-26    95\n",
      "2024-03-04    34\n",
      "2024-03-11    14\n",
      "2024-03-18    55\n",
      "2024-03-25    88\n",
      "2024-04-01    35\n",
      "2024-04-08    23\n",
      "2024-04-15    14\n",
      "2024-04-22    66\n",
      "2024-04-29    90\n",
      "2024-05-06    81\n",
      "2024-05-13    79\n",
      "2024-05-20    43\n",
      "2024-05-27    21\n",
      "dtype: int32\n"
     ]
    }
   ],
   "source": [
    "#4. Filter for a Specific Weekday (e.g., All Mondays)\n",
    "mondays = s[s.index.dayofweek == 0]  # Monday is 0, Tuesday is 1, etc.\n",
    "print(mondays)\n"
   ]
  }
 ],
 "metadata": {
  "kernelspec": {
   "display_name": "Python 3",
   "language": "python",
   "name": "python3"
  },
  "language_info": {
   "codemirror_mode": {
    "name": "ipython",
    "version": 3
   },
   "file_extension": ".py",
   "mimetype": "text/x-python",
   "name": "python",
   "nbconvert_exporter": "python",
   "pygments_lexer": "ipython3",
   "version": "3.11.9"
  }
 },
 "nbformat": 4,
 "nbformat_minor": 2
}
