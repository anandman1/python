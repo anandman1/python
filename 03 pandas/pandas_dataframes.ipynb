{
 "cells": [
  {
   "cell_type": "code",
   "execution_count": 1,
   "metadata": {},
   "outputs": [],
   "source": [
    "# Pandas DataFrames: A Concise Guide\n",
    "\n",
    "#Creating DataFrames\n",
    "\n",
    "#Empty DataFrame\n",
    "\n",
    "import pandas as pd\n",
    "\n",
    "df_empty = pd.DataFrame()"
   ]
  },
  {
   "cell_type": "code",
   "execution_count": 2,
   "metadata": {},
   "outputs": [],
   "source": [
    "#From Dictionary\n",
    "\n",
    "data = {\n",
    "    'Name': ['Alice', 'Bob', 'Chandni', 'Dawood'],\n",
    "    'Age': [25, 30, 18, 22],\n",
    "    'City': ['Mumbai', 'Kolkata', 'Delhi', 'Bengaluru']\n",
    "}\n",
    "df1 = pd.DataFrame(data)"
   ]
  },
  {
   "cell_type": "code",
   "execution_count": 3,
   "metadata": {},
   "outputs": [],
   "source": [
    "#From Pandas Series\n",
    "\n",
    "names = pd.Series(['Alice', 'Bob', 'Chandni', 'Dawood'])\n",
    "ages = pd.Series([25, 30, 18, 22])\n",
    "cities = pd.Series(['Mumbai', 'Kolkata', 'Delhi', 'Bengaluru'])\n",
    "\n",
    "df2 = pd.DataFrame({'Name': names, 'Age': ages, 'City': cities})"
   ]
  },
  {
   "cell_type": "code",
   "execution_count": 15,
   "metadata": {},
   "outputs": [
    {
     "data": {
      "text/plain": [
       "array([['Alice', 25, 'Mumbai'],\n",
       "       ['Bob', 30, 'Kolkata'],\n",
       "       ['Chandni', 18, 'Delhi'],\n",
       "       ['Dawood', 22, 'Bengaluru']], dtype=object)"
      ]
     },
     "execution_count": 15,
     "metadata": {},
     "output_type": "execute_result"
    }
   ],
   "source": [
    "#DataFrame Attributes\n",
    "df1.dtypes  # Column data types\n",
    "df1.ndim  # Number of dimensions\n",
    "df1.shape  # (rows, columns)\n",
    "df1.size  # Total elements\n",
    "df1.index  # Row index\n",
    "df1.columns  # Column names\n",
    "df1.values  # Data as an array"
   ]
  },
  {
   "cell_type": "markdown",
   "metadata": {},
   "source": [
    "Reading Data\n",
    "\n",
    "CSV\n",
    "\n",
    "df_csv = pd.read_csv('data.csv')\n",
    "\n",
    "Excel\n",
    "\n",
    "df_excel = pd.read_excel('data.xlsx')\n",
    "\n",
    "JSON\n",
    "\n",
    "df_json = pd.read_json('data.json')\n",
    "\n",
    "Read CSV with Options\n",
    "df_custom = pd.read_csv('data.csv', delimiter=';', header=2, index_col='ID', usecols=['Name', 'Age'], nrows=100, skiprows=10)\n",
    "\n",
    "The selected line:\n",
    "\n",
    "```python\n",
    "df_custom = pd.read_csv('data.csv', delimiter=';', header=2, index_col='ID', usecols=['Name', 'Age'], nrows=100, skiprows=10)\n",
    "```\n",
    "\n",
    " Explanation:\n",
    "\n",
    "This command reads a CSV file (`data.csv`) into a Pandas DataFrame while applying several options:\n",
    "\n",
    "1. **`delimiter=';'`** – Specifies that the values in the CSV file are separated by semicolons (`;`) instead of commas (`,`). Useful for European-style CSVs.\n",
    "2. **`header=2`** – Treats the third row (0-based index) of the CSV file as the header row, which contains column names.\n",
    "3. **`index_col='ID'`** – Uses the column named `'ID'` as the index for the DataFrame.\n",
    "4. **`usecols=['Name', 'Age']`** – Reads only the specified columns (`'Name'` and `'Age'`), ignoring other columns.\n",
    "5. **`nrows=100`** – Loads only the first 100 rows of data.\n",
    "6. **`skiprows=10`** – Skips the first 10 rows before reading the data.\n",
    "\n",
    "This setup is useful when dealing with large datasets where you need to load only relevant portions efficiently. 🚀"
   ]
  },
  {
   "cell_type": "code",
   "execution_count": 16,
   "metadata": {},
   "outputs": [
    {
     "data": {
      "text/html": [
       "<div>\n",
       "<style scoped>\n",
       "    .dataframe tbody tr th:only-of-type {\n",
       "        vertical-align: middle;\n",
       "    }\n",
       "\n",
       "    .dataframe tbody tr th {\n",
       "        vertical-align: top;\n",
       "    }\n",
       "\n",
       "    .dataframe thead th {\n",
       "        text-align: right;\n",
       "    }\n",
       "</style>\n",
       "<table border=\"1\" class=\"dataframe\">\n",
       "  <thead>\n",
       "    <tr style=\"text-align: right;\">\n",
       "      <th></th>\n",
       "      <th>Age</th>\n",
       "      <th>City</th>\n",
       "    </tr>\n",
       "  </thead>\n",
       "  <tbody>\n",
       "    <tr>\n",
       "      <th>0</th>\n",
       "      <td>25</td>\n",
       "      <td>Mumbai</td>\n",
       "    </tr>\n",
       "    <tr>\n",
       "      <th>1</th>\n",
       "      <td>30</td>\n",
       "      <td>Kolkata</td>\n",
       "    </tr>\n",
       "  </tbody>\n",
       "</table>\n",
       "</div>"
      ],
      "text/plain": [
       "   Age     City\n",
       "0   25   Mumbai\n",
       "1   30  Kolkata"
      ]
     },
     "execution_count": 16,
     "metadata": {},
     "output_type": "execute_result"
    }
   ],
   "source": [
    "#Indexing and Slicing\n",
    "\n",
    "#Using .iloc[] (Position-based)\n",
    "df1.iloc[0]  # First row\n",
    "df1.iloc[:, 0]  # First column\n",
    "df1.iloc[0, 0]  # First element\n",
    "df1.iloc[:2, 1:]  # Slicing rows and columns"
   ]
  },
  {
   "cell_type": "code",
   "execution_count": 17,
   "metadata": {},
   "outputs": [
    {
     "data": {
      "text/html": [
       "<div>\n",
       "<style scoped>\n",
       "    .dataframe tbody tr th:only-of-type {\n",
       "        vertical-align: middle;\n",
       "    }\n",
       "\n",
       "    .dataframe tbody tr th {\n",
       "        vertical-align: top;\n",
       "    }\n",
       "\n",
       "    .dataframe thead th {\n",
       "        text-align: right;\n",
       "    }\n",
       "</style>\n",
       "<table border=\"1\" class=\"dataframe\">\n",
       "  <thead>\n",
       "    <tr style=\"text-align: right;\">\n",
       "      <th></th>\n",
       "      <th>Name</th>\n",
       "      <th>City</th>\n",
       "    </tr>\n",
       "  </thead>\n",
       "  <tbody>\n",
       "    <tr>\n",
       "      <th>0</th>\n",
       "      <td>Alice</td>\n",
       "      <td>Mumbai</td>\n",
       "    </tr>\n",
       "    <tr>\n",
       "      <th>1</th>\n",
       "      <td>Bob</td>\n",
       "      <td>Kolkata</td>\n",
       "    </tr>\n",
       "    <tr>\n",
       "      <th>3</th>\n",
       "      <td>Dawood</td>\n",
       "      <td>Bengaluru</td>\n",
       "    </tr>\n",
       "  </tbody>\n",
       "</table>\n",
       "</div>"
      ],
      "text/plain": [
       "     Name       City\n",
       "0   Alice     Mumbai\n",
       "1     Bob    Kolkata\n",
       "3  Dawood  Bengaluru"
      ]
     },
     "execution_count": 17,
     "metadata": {},
     "output_type": "execute_result"
    }
   ],
   "source": [
    "#Using .loc[] (Label-based)\n",
    "df1.loc[0, 'Name']  # Specific element\n",
    "df1.loc[df1['Age'] > 20, ['Name', 'City']]  # Conditional filtering"
   ]
  },
  {
   "cell_type": "code",
   "execution_count": 18,
   "metadata": {},
   "outputs": [],
   "source": [
    "#DataFrame Operations\n",
    "\n",
    "#Column Operations\n",
    "df1['New Column'] = df1['Age'] * 2\n",
    "\n",
    "#Handling NaN Values\n",
    "df1.fillna(0)  # Replace NaN with 0\n",
    "df1.dropna()  # Remove NaN rows\n",
    "\n",
    "#Apply Functions\n",
    "df1['Age Category'] = df1['Age'].apply(lambda x: 'Adult' if x >= 18 else 'Minor')\n"
   ]
  },
  {
   "cell_type": "code",
   "execution_count": 19,
   "metadata": {},
   "outputs": [],
   "source": [
    "#Merging DataFrames\n",
    "df_merged = pd.merge(df1, df2, on='Name', how='inner')  # Inner join\n",
    "df_concat_rows = pd.concat([df1, df2], axis=0)  # Stack rows\n",
    "df_concat_cols = pd.concat([df1, df2], axis=1)  # Stack columns"
   ]
  },
  {
   "cell_type": "code",
   "execution_count": 24,
   "metadata": {},
   "outputs": [
    {
     "data": {
      "text/html": [
       "<div>\n",
       "<style scoped>\n",
       "    .dataframe tbody tr th:only-of-type {\n",
       "        vertical-align: middle;\n",
       "    }\n",
       "\n",
       "    .dataframe tbody tr th {\n",
       "        vertical-align: top;\n",
       "    }\n",
       "\n",
       "    .dataframe thead th {\n",
       "        text-align: right;\n",
       "    }\n",
       "</style>\n",
       "<table border=\"1\" class=\"dataframe\">\n",
       "  <thead>\n",
       "    <tr style=\"text-align: right;\">\n",
       "      <th></th>\n",
       "      <th>Name</th>\n",
       "      <th>Age</th>\n",
       "      <th>City</th>\n",
       "      <th>New Column</th>\n",
       "      <th>Age Category</th>\n",
       "    </tr>\n",
       "  </thead>\n",
       "  <tbody>\n",
       "    <tr>\n",
       "      <th>0</th>\n",
       "      <td>Alice</td>\n",
       "      <td>25</td>\n",
       "      <td>Mumbai</td>\n",
       "      <td>50</td>\n",
       "      <td>Adult</td>\n",
       "    </tr>\n",
       "    <tr>\n",
       "      <th>1</th>\n",
       "      <td>Bob</td>\n",
       "      <td>30</td>\n",
       "      <td>Kolkata</td>\n",
       "      <td>60</td>\n",
       "      <td>Adult</td>\n",
       "    </tr>\n",
       "    <tr>\n",
       "      <th>2</th>\n",
       "      <td>Chandni</td>\n",
       "      <td>18</td>\n",
       "      <td>Delhi</td>\n",
       "      <td>36</td>\n",
       "      <td>Adult</td>\n",
       "    </tr>\n",
       "    <tr>\n",
       "      <th>3</th>\n",
       "      <td>Dawood</td>\n",
       "      <td>22</td>\n",
       "      <td>Bengaluru</td>\n",
       "      <td>44</td>\n",
       "      <td>Adult</td>\n",
       "    </tr>\n",
       "  </tbody>\n",
       "</table>\n",
       "</div>"
      ],
      "text/plain": [
       "      Name  Age       City  New Column Age Category\n",
       "0    Alice   25     Mumbai          50        Adult\n",
       "1      Bob   30    Kolkata          60        Adult\n",
       "2  Chandni   18      Delhi          36        Adult\n",
       "3   Dawood   22  Bengaluru          44        Adult"
      ]
     },
     "execution_count": 24,
     "metadata": {},
     "output_type": "execute_result"
    }
   ],
   "source": [
    "#Grouping and Aggregation\n",
    "\n",
    "#Grouping and Summarization\n",
    "department_sum = df1.groupby('City').sum()\n",
    "department_count = df1.groupby('City').count()\n",
    "department_sum\n",
    "df1"
   ]
  },
  {
   "cell_type": "code",
   "execution_count": 25,
   "metadata": {},
   "outputs": [
    {
     "data": {
      "text/html": [
       "<div>\n",
       "<style scoped>\n",
       "    .dataframe tbody tr th:only-of-type {\n",
       "        vertical-align: middle;\n",
       "    }\n",
       "\n",
       "    .dataframe tbody tr th {\n",
       "        vertical-align: top;\n",
       "    }\n",
       "\n",
       "    .dataframe thead th {\n",
       "        text-align: right;\n",
       "    }\n",
       "</style>\n",
       "<table border=\"1\" class=\"dataframe\">\n",
       "  <thead>\n",
       "    <tr style=\"text-align: right;\">\n",
       "      <th>Name</th>\n",
       "      <th>Alice</th>\n",
       "      <th>Bob</th>\n",
       "      <th>Chandni</th>\n",
       "      <th>Dawood</th>\n",
       "    </tr>\n",
       "    <tr>\n",
       "      <th>City</th>\n",
       "      <th></th>\n",
       "      <th></th>\n",
       "      <th></th>\n",
       "      <th></th>\n",
       "    </tr>\n",
       "  </thead>\n",
       "  <tbody>\n",
       "    <tr>\n",
       "      <th>Bengaluru</th>\n",
       "      <td>NaN</td>\n",
       "      <td>NaN</td>\n",
       "      <td>NaN</td>\n",
       "      <td>22.0</td>\n",
       "    </tr>\n",
       "    <tr>\n",
       "      <th>Delhi</th>\n",
       "      <td>NaN</td>\n",
       "      <td>NaN</td>\n",
       "      <td>18.0</td>\n",
       "      <td>NaN</td>\n",
       "    </tr>\n",
       "    <tr>\n",
       "      <th>Kolkata</th>\n",
       "      <td>NaN</td>\n",
       "      <td>30.0</td>\n",
       "      <td>NaN</td>\n",
       "      <td>NaN</td>\n",
       "    </tr>\n",
       "    <tr>\n",
       "      <th>Mumbai</th>\n",
       "      <td>25.0</td>\n",
       "      <td>NaN</td>\n",
       "      <td>NaN</td>\n",
       "      <td>NaN</td>\n",
       "    </tr>\n",
       "  </tbody>\n",
       "</table>\n",
       "</div>"
      ],
      "text/plain": [
       "Name       Alice   Bob  Chandni  Dawood\n",
       "City                                   \n",
       "Bengaluru    NaN   NaN      NaN    22.0\n",
       "Delhi        NaN   NaN     18.0     NaN\n",
       "Kolkata      NaN  30.0      NaN     NaN\n",
       "Mumbai      25.0   NaN      NaN     NaN"
      ]
     },
     "execution_count": 25,
     "metadata": {},
     "output_type": "execute_result"
    }
   ],
   "source": [
    "#Pivot Table\n",
    "df_pivot = df1.pivot(index='City', columns='Name', values='Age')\n",
    "df_pivot"
   ]
  },
  {
   "cell_type": "code",
   "execution_count": 26,
   "metadata": {},
   "outputs": [],
   "source": [
    "# summing values in pivot tables: \n",
    "df_pivot_sum = df1.pivot_table(index='City', columns='Name', values='Age', aggfunc='sum')\n",
    "\n",
    "#Averaging Values in a Pivot Table\n",
    "df_pivot_avg = df1.pivot_table(index='City', columns='Name', values='Age', aggfunc='mean')"
   ]
  }
 ],
 "metadata": {
  "kernelspec": {
   "display_name": "Python 3",
   "language": "python",
   "name": "python3"
  },
  "language_info": {
   "codemirror_mode": {
    "name": "ipython",
    "version": 3
   },
   "file_extension": ".py",
   "mimetype": "text/x-python",
   "name": "python",
   "nbconvert_exporter": "python",
   "pygments_lexer": "ipython3",
   "version": "3.11.9"
  }
 },
 "nbformat": 4,
 "nbformat_minor": 2
}
