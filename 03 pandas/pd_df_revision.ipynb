{
 "cells": [
  {
   "cell_type": "markdown",
   "metadata": {},
   "source": [
    "# Pandas DataFrames: A Concise Guide"
   ]
  },
  {
   "cell_type": "markdown",
   "metadata": {},
   "source": [
    "## 1. Creating DataFrames"
   ]
  },
  {
   "cell_type": "code",
   "execution_count": null,
   "metadata": {},
   "outputs": [],
   "source": [
    "import pandas as pd\n",
    "\n",
    "# Empty DataFrame\n",
    "df_empty = pd.DataFrame()\n",
    "\n",
    "# From Dictionary\n",
    "data = {\n",
    "    'Name': ['Alice', 'Bob', 'Chandni', 'Dawood'],\n",
    "    'Age': [25, 30, 18, 22],\n",
    "    'City': ['Mumbai', 'Kolkata', 'Delhi', 'Bengaluru']\n",
    "}\n",
    "df1 = pd.DataFrame(data)\n",
    "\n",
    "# From Pandas Series\n",
    "names = pd.Series(['Alice', 'Bob', 'Chandni', 'Dawood'])\n",
    "ages = pd.Series([25, 30, 18, 22])\n",
    "cities = pd.Series(['Mumbai', 'Kolkata', 'Delhi', 'Bengaluru'])\n",
    "df2 = pd.DataFrame({'Name': names, 'Age': ages, 'City': cities})"
   ]
  },
  {
   "cell_type": "markdown",
   "metadata": {},
   "source": [
    "## 2. DataFrame Attributes"
   ]
  },
  {
   "cell_type": "code",
   "execution_count": null,
   "metadata": {},
   "outputs": [],
   "source": [
    "# Basic attributes\n",
    "print(df1.dtypes)   # Column data types\n",
    "print(df1.ndim)     # Number of dimensions\n",
    "print(df1.shape)    # (rows, columns)\n",
    "print(df1.size)     # Total elements\n",
    "print(df1.index)    # Row index\n",
    "print(df1.columns)  # Column names\n",
    "print(df1.values)   # Data as an array"
   ]
  },
  {
   "cell_type": "markdown",
   "metadata": {},
   "source": [
    "## 3. Reading Data\n",
    "\n",
    "Common ways to read data into DataFrames:"
   ]
  },
  {
   "cell_type": "code",
   "execution_count": null,
   "metadata": {},
   "outputs": [],
   "source": [
    "# Basic reading\n",
    "df_csv = pd.read_csv('data.csv')\n",
    "df_excel = pd.read_excel('data.xlsx')\n",
    "df_json = pd.read_json('data.json')\n",
    "\n",
    "# Advanced CSV reading with options\n",
    "df_custom = pd.read_csv('data.csv',\n",
    "                       delimiter=';',      # Use semicolon separator\n",
    "                       header=2,           # Header is in third row\n",
    "                       index_col='ID',     # Use 'ID' column as index\n",
    "                       usecols=['Name', 'Age'],  # Select specific columns\n",
    "                       nrows=100,          # Read only 100 rows\n",
    "                       skiprows=10)        # Skip first 10 rows"
   ]
  },
  {
   "cell_type": "markdown",
   "metadata": {},
   "source": [
    "## 4. Indexing and Slicing"
   ]
  },
  {
   "cell_type": "code",
   "execution_count": null,
   "metadata": {},
   "outputs": [],
   "source": [
    "# Position-based indexing (.iloc[])\n",
    "print(df1.iloc[0])        # First row\n",
    "print(df1.iloc[:, 0])     # First column\n",
    "print(df1.iloc[0, 0])     # First element\n",
    "print(df1.iloc[:2, 1:])   # Slicing rows and columns\n",
    "\n",
    "# Label-based indexing (.loc[])\n",
    "print(df1.loc[0, 'Name'])  # Specific element\n",
    "print(df1.loc[df1['Age'] > 20, ['Name', 'City']])  # Conditional filtering"
   ]
  },
  {
   "cell_type": "markdown",
   "metadata": {},
   "source": [
    "## 5. DataFrame Operations"
   ]
  },
  {
   "cell_type": "code",
   "execution_count": null,
   "metadata": {},
   "outputs": [],
   "source": [
    "# Column operations\n",
    "df1['New Column'] = df1['Age'] * 2\n",
    "\n",
    "# Handling NaN values\n",
    "print(df1.fillna(0))    # Replace NaN with 0\n",
    "print(df1.dropna())     # Remove NaN rows\n",
    "\n",
    "# Apply functions\n",
    "df1['Age Category'] = df1['Age'].apply(lambda x: 'Adult' if x >= 18 else 'Minor')"
   ]
  },
  {
   "cell_type": "markdown",
   "metadata": {},
   "source": [
    "## 6. Merging and Concatenating"
   ]
  },
  {
   "cell_type": "code",
   "execution_count": null,
   "metadata": {},
   "outputs": [],
   "source": [
    "# Merging DataFrames\n",
    "df_merged = pd.merge(df1, df2, on='Name', how='inner')  # Inner join\n",
    "\n",
    "# Concatenating\n",
    "df_concat_rows = pd.concat([df1, df2], axis=0)  # Stack rows\n",
    "df_concat_cols = pd.concat([df1, df2], axis=1)  # Stack columns"
   ]
  },
  {
   "cell_type": "markdown",
   "metadata": {},
   "source": [
    "## 7. Grouping and Aggregation"
   ]
  },
  {
   "cell_type": "code",
   "execution_count": null,
   "metadata": {},
   "outputs": [],
   "source": [
    "# Basic grouping operations\n",
    "department_sum = df1.groupby('City').sum()\n",
    "department_count = df1.groupby('City').count()\n",
    "\n",
    "# Pivot tables\n",
    "df_pivot = df1.pivot(index='City', columns='Name', values='Age')\n",
    "\n",
    "# Pivot table with aggregation\n",
    "df_pivot_sum = df1.pivot_table(index='City', \n",
    "                              columns='Name', \n",
    "                              values='Age', \n",
    "                              aggfunc='sum')\n",
    "\n",
    "df_pivot_avg = df1.pivot_table(index='City', \n",
    "                              columns='Name', \n",
    "                              values='Age', \n",
    "                              aggfunc='mean')"
   ]
  }
 ],
 "metadata": {
  "kernelspec": {
   "display_name": "Python 3",
   "language": "python",
   "name": "python3"
  },
  "language_info": {
   "codemirror_mode": {
    "name": "ipython",
    "version": 3
   },
   "file_extension": ".py",
   "mimetype": "text/x-python",
   "name": "python",
   "nbconvert_exporter": "python",
   "pygments_lexer": "ipython3",
   "version": "3.8.0"
  }
 },
 "nbformat": 4,
 "nbformat_minor": 4
}
