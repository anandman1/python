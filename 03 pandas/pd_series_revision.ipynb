{
 "cells": [
  {
   "cell_type": "markdown",
   "metadata": {},
   "source": [
    "# Pandas Series - Comprehensive Guide\n",
    "\n",
    "A Pandas Series is a one-dimensional labeled array capable of holding any data type (integers, floats, strings, objects, etc.). It is similar to a column in an Excel sheet or a dictionary where each value has an index."
   ]
  },
  {
   "cell_type": "markdown",
   "metadata": {},
   "source": [
    "## 1. Creating Series"
   ]
  },
  {
   "cell_type": "code",
   "execution_count": null,
   "metadata": {},
   "outputs": [],
   "source": [
    "import pandas as pd\n",
    "import numpy as np\n",
    "\n",
    "# From list\n",
    "s1 = pd.Series([10, 20, 30, 40, 50])\n",
    "\n",
    "# With custom index\n",
    "s2 = pd.Series([10, 20, 30, 40, 50], index=['a', 'b', 'c', 'd', 'e'])\n",
    "\n",
    "# From dictionary\n",
    "s3 = pd.Series({'a': 100, 'b': 200, 'c': 300})\n",
    "\n",
    "# From numpy array\n",
    "s4 = pd.Series(np.array([1, 2, 3, 4]))\n",
    "\n",
    "# From scalar value\n",
    "s5 = pd.Series(5, index=['a', 'b', 'c', 'd'])"
   ]
  },
  {
   "cell_type": "markdown",
   "metadata": {},
   "source": [
    "## 2. Accessing Elements"
   ]
  },
  {
   "cell_type": "code",
   "execution_count": null,
   "metadata": {},
   "outputs": [],
   "source": [
    "s = pd.Series([10, 20, 30, 40], index=['a', 'b', 'c', 'd'])\n",
    "\n",
    "# Multiple ways to access elements\n",
    "print(s[0])        # By position\n",
    "print(s['a'])      # By label\n",
    "print(s.iloc[0])   # Integer location\n",
    "print(s.loc['a'])  # Label location"
   ]
  },
  {
   "cell_type": "markdown",
   "metadata": {},
   "source": [
    "## 3. Series Attributes"
   ]
  },
  {
   "cell_type": "code",
   "execution_count": null,
   "metadata": {},
   "outputs": [],
   "source": [
    "s = pd.Series([10, 20, 30], index=['a', 'b', 'c'])\n",
    "\n",
    "print(s.index)     # Index labels\n",
    "print(s.values)    # Values as NumPy array\n",
    "print(s.dtype)     # Data type\n",
    "print(s.shape)     # Shape\n",
    "print(s.size)      # Number of elements\n",
    "print(s.ndim)      # Number of dimensions"
   ]
  },
  {
   "cell_type": "markdown",
   "metadata": {},
   "source": [
    "## 4. Operations and Calculations"
   ]
  },
  {
   "cell_type": "code",
   "execution_count": null,
   "metadata": {},
   "outputs": [],
   "source": [
    "# Arithmetic operations\n",
    "s1 = pd.Series([1, 2, 3])\n",
    "s2 = pd.Series([4, 5, 6])\n",
    "\n",
    "print(s1 + s2)  # Addition\n",
    "print(s1 * s2)  # Multiplication\n",
    "\n",
    "# NumPy functions\n",
    "s = pd.Series([1, 4, 9, 16])\n",
    "print(np.sqrt(s))  # Square root\n",
    "print(np.log(s))   # Natural logarithm"
   ]
  },
  {
   "cell_type": "markdown",
   "metadata": {},
   "source": [
    "## 5. Filtering and Selection"
   ]
  },
  {
   "cell_type": "code",
   "execution_count": null,
   "metadata": {},
   "outputs": [],
   "source": [
    "s = pd.Series([10, 20, 30, 40, 50])\n",
    "\n",
    "# Conditional filtering\n",
    "print(s[s > 25])  # Values greater than 25\n",
    "print(s[(s > 15) & (s < 45)])  # Multiple conditions\n",
    "\n",
    "# Handling missing values\n",
    "s = pd.Series([1, 2, None, 4, np.nan])\n",
    "print(s.isnull())    # Check for NaN\n",
    "print(s.fillna(0))   # Fill NaN with 0\n",
    "print(s.dropna())    # Remove NaN values"
   ]
  },
  {
   "cell_type": "markdown",
   "metadata": {},
   "source": [
    "## 6. Sorting and Applying Functions"
   ]
  },
  {
   "cell_type": "code",
   "execution_count": null,
   "metadata": {},
   "outputs": [],
   "source": [
    "s = pd.Series([30, 10, 20], index=['a', 'b', 'c'])\n",
    "\n",
    "# Sorting\n",
    "print(s.sort_values())  # Sort by values\n",
    "print(s.sort_index())   # Sort by index\n",
    "\n",
    "# Applying functions\n",
    "s = pd.Series([1, 2, 3, 4, 5])\n",
    "print(s.apply(lambda x: x**2))  # Square each element"
   ]
  },
  {
   "cell_type": "markdown",
   "metadata": {},
   "source": [
    "## 7. String Operations"
   ]
  },
  {
   "cell_type": "code",
   "execution_count": null,
   "metadata": {},
   "outputs": [],
   "source": [
    "s = pd.Series(['apple', '  banana ', 'cherry  '])\n",
    "\n",
    "print(s.str.upper())         # Uppercase\n",
    "print(s.str.strip())         # Remove whitespace\n",
    "print(s.str.contains('a'))   # Check for substring\n",
    "print(s.str.replace('a', '@'))  # Replace characters"
   ]
  },
  {
   "cell_type": "markdown",
   "metadata": {},
   "source": [
    "## 8. DateTime Operations"
   ]
  },
  {
   "cell_type": "code",
   "execution_count": null,
   "metadata": {},
   "outputs": [],
   "source": [
    "# Create time series\n",
    "dates = pd.date_range('2024-01-01', periods=150, freq='D')\n",
    "s = pd.Series(np.random.randint(10, 100, size=len(dates)), index=dates)\n",
    "\n",
    "# Date filtering\n",
    "print(s['2024-03-10'])                          # Specific date\n",
    "print(s['2024-04'])                             # Specific month\n",
    "print(s['2024-03-10':'2024-04-05'])            # Date range\n",
    "print(s[s.index.day == 15])                     # All 15th\n",
    "print(s[s.index.dayofweek == 0])                # All Mondays"
   ]
  }
 ],
 "metadata": {
  "kernelspec": {
   "display_name": "Python 3",
   "language": "python",
   "name": "python3"
  },
  "language_info": {
   "codemirror_mode": {
    "name": "ipython",
    "version": 3
   },
   "file_extension": ".py",
   "mimetype": "text/x-python",
   "name": "python",
   "nbconvert_exporter": "python",
   "pygments_lexer": "ipython3",
   "version": "3.8.0"
  }
 },
 "nbformat": 4,
 "nbformat_minor": 4
}
