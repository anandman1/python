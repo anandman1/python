{
 "cells": [
  {
   "cell_type": "markdown",
   "metadata": {},
   "source": [
    "# NumPy Revision Notes"
   ]
  },
  {
   "cell_type": "markdown",
   "metadata": {},
   "source": [
    "## 1. Array Creation and Basic Properties"
   ]
  },
  {
   "cell_type": "code",
   "execution_count": null,
   "metadata": {},
   "outputs": [],
   "source": [
    "import numpy as np\n",
    "\n",
    "# Empty array\n",
    "empty_array = np.array([])  # dtype: float64\n",
    "\n",
    "# Array with elements\n",
    "arr1 = np.array([1, 2, 3])  # dtype: int64\n",
    "arr2 = np.array([1.5, 2, 3])  # dtype: float64\n",
    "\n",
    "# Key attributes\n",
    "print(arr1.dtype)    # Data type\n",
    "print(arr1.ndim)     # Number of dimensions\n",
    "print(arr1.shape)    # Shape of array\n",
    "print(arr1.size)     # Total number of elements"
   ]
  },
  {
   "cell_type": "markdown",
   "metadata": {},
   "source": [
    "## 2. Array Creation Methods"
   ]
  },
  {
   "cell_type": "code",
   "execution_count": null,
   "metadata": {},
   "outputs": [],
   "source": [
    "# Different ways to create arrays\n",
    "print(np.array(range(1, 10)))  # [1 2 3 4 5 6 7 8 9]\n",
    "print(np.arange(1, 10))        # [1 2 3 4 5 6 7 8 9]\n",
    "print(np.zeros(10))            # Array of zeros\n",
    "print(np.zeros(10, dtype='int'))  # Array of integer zeros\n",
    "print(np.ones(10))             # Array of ones\n",
    "print(np.linspace(2, 2.5, 5))  # Evenly spaced numbers\n",
    "\n",
    "# Multidimensional array\n",
    "arr_2d = np.array([[1, 2, 3], \n",
    "                   [4, 5, 6], \n",
    "                   [7, 8, 9]])"
   ]
  },
  {
   "cell_type": "markdown",
   "metadata": {},
   "source": [
    "## 3. Array Indexing"
   ]
  },
  {
   "cell_type": "code",
   "execution_count": null,
   "metadata": {},
   "outputs": [],
   "source": [
    "# 1D Indexing\n",
    "arr = np.array([10, 20, 30, 40, 50])\n",
    "print(arr[0])    # First element: 10\n",
    "print(arr[-1])   # Last element: 50\n",
    "\n",
    "# 2D Indexing\n",
    "arr2d = np.array([[1, 2, 3], \n",
    "                  [4, 5, 6], \n",
    "                  [7, 8, 9]])\n",
    "print(arr2d[0, 0])    # First element: 1\n",
    "print(arr2d[1, 2])    # Row 1, Col 2: 6\n",
    "\n",
    "# 3D Indexing\n",
    "arr3d = np.array([[[1, 2], [3, 4]], \n",
    "                  [[5, 6], [7, 8]]])\n",
    "print(arr3d[0, 1, 1])  # First matrix, second row, second col: 4"
   ]
  },
  {
   "cell_type": "markdown",
   "metadata": {},
   "source": [
    "## 4. Array Slicing"
   ]
  },
  {
   "cell_type": "code",
   "execution_count": null,
   "metadata": {},
   "outputs": [],
   "source": [
    "# 1D Slicing\n",
    "arr = np.array([10, 20, 30, 40, 50, 60])\n",
    "print(arr[1:4])    # [20 30 40]\n",
    "print(arr[:3])     # [10 20 30]\n",
    "print(arr[2:])     # [30 40 50 60]\n",
    "print(arr[::2])    # [10 30 50]\n",
    "print(arr[::-1])   # [60 50 40 30 20 10]\n",
    "\n",
    "# 2D Slicing\n",
    "arr2d = np.array([[1, 2, 3, 4], \n",
    "                  [5, 6, 7, 8], \n",
    "                  [9, 10, 11, 12]])\n",
    "print(arr2d[:2, 1:3])  # First 2 rows, columns 1 to 2"
   ]
  },
  {
   "cell_type": "markdown",
   "metadata": {},
   "source": [
    "## 5. Advanced Indexing"
   ]
  },
  {
   "cell_type": "code",
   "execution_count": null,
   "metadata": {},
   "outputs": [],
   "source": [
    "# Boolean Indexing\n",
    "arr = np.array([10, 20, 30, 40, 50])\n",
    "print(arr[arr > 25])        # [30 40 50]\n",
    "print(arr[arr % 20 == 0])   # [20 40]\n",
    "\n",
    "# Fancy Indexing\n",
    "print(arr[[1, 3, 4]])       # [20 40 50]\n",
    "\n",
    "# Where function\n",
    "print(np.where(arr % 3 == 0, arr, 0))  # Replace non-divisible by 3 with 0"
   ]
  },
  {
   "cell_type": "markdown",
   "metadata": {},
   "source": [
    "## 6. Array Manipulation"
   ]
  },
  {
   "cell_type": "code",
   "execution_count": null,
   "metadata": {},
   "outputs": [],
   "source": [
    "# Append\n",
    "arr = np.array([1, 2, 3, 4, 5])\n",
    "arr = np.append(arr, 6)  # [1 2 3 4 5 6]\n",
    "\n",
    "# Concatenate\n",
    "arr1 = np.array([1, 2, 3])\n",
    "arr2 = np.array([4, 5, 6])\n",
    "arr3 = np.array([7, 8, 9])\n",
    "print(np.concatenate([arr1, arr2, arr3]))\n",
    "\n",
    "# Concatenate with axis\n",
    "mat1 = np.array([[1, 2], [3, 4]])\n",
    "mat2 = np.array([[5, 6]])\n",
    "mat3 = np.array([[7], [8]])\n",
    "print(np.concatenate((mat1, mat2), axis=0))  # Rows\n",
    "print(np.concatenate((mat1, mat3), axis=1))  # Columns"
   ]
  }
 ],
 "metadata": {
  "kernelspec": {
   "display_name": "Python 3",
   "language": "python",
   "name": "python3"
  },
  "language_info": {
   "codemirror_mode": {
    "name": "ipython",
    "version": 3
   },
   "file_extension": ".py",
   "mimetype": "text/x-python",
   "name": "python",
   "nbconvert_exporter": "python",
   "pygments_lexer": "ipython3",
   "version": "3.8.0"
  }
 },
 "nbformat": 4,
 "nbformat_minor": 4
}
