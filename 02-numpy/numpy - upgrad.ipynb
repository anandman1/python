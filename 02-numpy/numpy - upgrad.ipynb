{
 "cells": [
  {
   "cell_type": "markdown",
   "metadata": {},
   "source": [
    "## NumPy"
   ]
  },
  {
   "cell_type": "code",
   "execution_count": 1,
   "metadata": {},
   "outputs": [],
   "source": [
    "import numpy as np"
   ]
  },
  {
   "cell_type": "code",
   "execution_count": 2,
   "metadata": {},
   "outputs": [],
   "source": [
    "#You can create an empty NumPy array as follows:\n",
    "empty_array = np.array(object = [])"
   ]
  },
  {
   "cell_type": "code",
   "execution_count": 3,
   "metadata": {},
   "outputs": [
    {
     "data": {
      "text/plain": [
       "numpy.ndarray"
      ]
     },
     "execution_count": 3,
     "metadata": {},
     "output_type": "execute_result"
    }
   ],
   "source": [
    "#Note that the default data type for an empty array is float64 or a 64-bit, double-precision floating point, which is the same as we’ve been using while defining floats.\n",
    "#The type() function on an array would give us the following:  \n",
    "\n",
    "type(empty_array)"
   ]
  },
  {
   "cell_type": "markdown",
   "metadata": {},
   "source": [
    "The type() function on an array would give us the numpy.ndarray\n",
    "\n",
    "To find the data type of the elements within the array, we can use the .dtype attribute:\n",
    "\n",
    "Other useful attributes are .ndim which records the number of dimensions of the array, \n",
    ".shape which records its shape (i.e., number of elements in each dimension), \n",
    "and .size which records the total number of elements across all dimensions of the array."
   ]
  },
  {
   "cell_type": "code",
   "execution_count": 7,
   "metadata": {},
   "outputs": [
    {
     "name": "stdout",
     "output_type": "stream",
     "text": [
      "int64\n"
     ]
    },
    {
     "data": {
      "text/plain": [
       "array([1, 2, 3])"
      ]
     },
     "execution_count": 7,
     "metadata": {},
     "output_type": "execute_result"
    }
   ],
   "source": [
    "#We can create a NumPy array with elements as follows:\n",
    "my_array = np.array([1,2,3])# this would be of dtype int64\n",
    "print(my_array.dtype)\n",
    "my_array"
   ]
  },
  {
   "cell_type": "code",
   "execution_count": 8,
   "metadata": {},
   "outputs": [
    {
     "name": "stdout",
     "output_type": "stream",
     "text": [
      "float64\n"
     ]
    }
   ],
   "source": [
    "#Arrays of different data types are automatically typecast if possible:\n",
    "my_array = np.array([1.5, 2, 3])  # this would be of dtype float64\n",
    "print(my_array.dtype)"
   ]
  },
  {
   "cell_type": "code",
   "execution_count": 9,
   "metadata": {},
   "outputs": [
    {
     "name": "stdout",
     "output_type": "stream",
     "text": [
      "[1 2 3 4 5 6 7 8 9]\n",
      "[1 2 3 4 5 6 7 8 9]\n",
      "[0. 0. 0. 0. 0. 0. 0. 0. 0. 0.]\n",
      "[0 0 0 0 0 0 0 0 0 0]\n"
     ]
    }
   ],
   "source": [
    "#There are various other ways to create arrays\n",
    "print(np.array(range(1, 10)))\n",
    "print(np.arange(1, 10) )\n",
    "\n",
    "#If you want an array of zeroes, you could use np.zeros() as follows:\n",
    "print(np.zeros(shape = 10))\n",
    "\n",
    "#If you’d rather have integer zeroes, you could specify the dtype parameter:\n",
    "print(np.zeros(shape = 10, dtype= 'int'))\n"
   ]
  },
  {
   "cell_type": "code",
   "execution_count": 10,
   "metadata": {},
   "outputs": [
    {
     "name": "stdout",
     "output_type": "stream",
     "text": [
      "[1 1 1 1 1 1 1 1 1 1]\n",
      "[1. 1. 1. 1. 1. 1. 1. 1. 1. 1.]\n"
     ]
    }
   ],
   "source": [
    "#Similarly, you could get ones with the np.ones() function:\n",
    "print(np.ones(shape = 10, dtype= 'int'))\n",
    "print(np.ones(shape = 10))"
   ]
  },
  {
   "cell_type": "code",
   "execution_count": 14,
   "metadata": {},
   "outputs": [
    {
     "data": {
      "text/plain": [
       "array([2.   , 2.125, 2.25 , 2.375, 2.5  ])"
      ]
     },
     "execution_count": 14,
     "metadata": {},
     "output_type": "execute_result"
    }
   ],
   "source": [
    "#The np.linspace() function lets you create an array containing as many elements as you’d like between a start and a stop point. Note that the stop is inclusive in this case:\n",
    "np.linspace(start = 2, stop = 2.5, num = 5) "
   ]
  },
  {
   "cell_type": "code",
   "execution_count": 15,
   "metadata": {},
   "outputs": [
    {
     "data": {
      "text/plain": [
       "array([[1, 2, 3],\n",
       "       [4, 5, 6],\n",
       "       [7, 8, 9]])"
      ]
     },
     "execution_count": 15,
     "metadata": {},
     "output_type": "execute_result"
    }
   ],
   "source": [
    "#We can also create multidimensional NumPy arrays:\n",
    "\n",
    "np.array([[1, 2, 3], [4, 5, 6], [7, 8, 9]])"
   ]
  },
  {
   "cell_type": "markdown",
   "metadata": {},
   "source": [
    "### NumPy Arrays - Indexing and slicing Arrays"
   ]
  },
  {
   "cell_type": "code",
   "execution_count": 17,
   "metadata": {},
   "outputs": [
    {
     "name": "stdout",
     "output_type": "stream",
     "text": [
      "10\n",
      "30\n",
      "50\n"
     ]
    }
   ],
   "source": [
    "#NumPy allows accessing elements in an array using indices. The indexing follows zero-based numbering.\n",
    "\n",
    "#1D Array Indexing\n",
    "\n",
    "\n",
    "arr = np.array([10, 20, 30, 40, 50])\n",
    "print(arr[0])   # Output: 10\n",
    "print(arr[2])   # Output: 30\n",
    "print(arr[-1])  # Output: 50 (last element)"
   ]
  },
  {
   "cell_type": "code",
   "execution_count": 18,
   "metadata": {},
   "outputs": [
    {
     "name": "stdout",
     "output_type": "stream",
     "text": [
      "1\n",
      "6\n",
      "9\n"
     ]
    }
   ],
   "source": [
    "#2D Array Indexing\n",
    "\n",
    "arr2d = np.array([[1, 2, 3], \n",
    "                  [4, 5, 6], \n",
    "                  [7, 8, 9]])\n",
    "\n",
    "print(arr2d[0, 0])  # Output: 1 (row 0, col 0)\n",
    "print(arr2d[1, 2])  # Output: 6 (row 1, col 2)\n",
    "print(arr2d[-1, -1])  # Output: 9 (last row, last column)"
   ]
  },
  {
   "cell_type": "code",
   "execution_count": 19,
   "metadata": {},
   "outputs": [
    {
     "name": "stdout",
     "output_type": "stream",
     "text": [
      "4\n"
     ]
    }
   ],
   "source": [
    "#3D indexing\n",
    "arr3d = np.array([[[1, 2], [3, 4]], \n",
    "                   [[5, 6], [7, 8]]])\n",
    "\n",
    "print(arr3d[0, 1, 1])  # Output: 4 (First matrix, second row, second column)"
   ]
  },
  {
   "cell_type": "markdown",
   "metadata": {},
   "source": [
    "2. Slicing NumPy Arrays\n",
    "Slicing allows extracting portions of arrays using the syntax:\n",
    "arr[start:stop:step]"
   ]
  },
  {
   "cell_type": "code",
   "execution_count": 20,
   "metadata": {},
   "outputs": [
    {
     "name": "stdout",
     "output_type": "stream",
     "text": [
      "[20 30 40]\n",
      "[10 20 30]\n",
      "[30 40 50 60]\n",
      "[10 30 50]\n",
      "[60 50 40 30 20 10]\n"
     ]
    }
   ],
   "source": [
    "#1d slicing \n",
    "arr = np.array([10, 20, 30, 40, 50, 60])\n",
    "\n",
    "print(arr[1:4])   # Output: [20 30 40]  (From index 1 to 3)\n",
    "print(arr[:3])    # Output: [10 20 30]  (First 3 elements)\n",
    "print(arr[2:])    # Output: [30 40 50 60] (From index 2 to end)\n",
    "print(arr[::2])   # Output: [10 30 50] (Every second element)\n",
    "print(arr[::-1])  # Output: [60 50 40 30 20 10] (Reverse array)"
   ]
  },
  {
   "cell_type": "code",
   "execution_count": 21,
   "metadata": {},
   "outputs": [
    {
     "name": "stdout",
     "output_type": "stream",
     "text": [
      "[[2 3]\n",
      " [6 7]]\n"
     ]
    }
   ],
   "source": [
    "#2d slicing\n",
    "\n",
    "arr2d = np.array([[1, 2, 3, 4], \n",
    "                  [5, 6, 7, 8], \n",
    "                  [9, 10, 11, 12]])\n",
    "\n",
    "print(arr2d[:2, 1:3]) "
   ]
  },
  {
   "cell_type": "code",
   "execution_count": 22,
   "metadata": {},
   "outputs": [
    {
     "name": "stdout",
     "output_type": "stream",
     "text": [
      "[30 40 50]\n",
      "[20 40]\n"
     ]
    }
   ],
   "source": [
    "#Boolean Indexing\n",
    "#Boolean conditions can be used to filter arrays.\n",
    "\n",
    "arr = np.array([10, 20, 30, 40, 50])\n",
    "\n",
    "print(arr[arr > 25])  \n",
    "# Output: [30 40 50]\n",
    "\n",
    "even_mask = arr % 20 == 0\n",
    "print(arr[even_mask])  \n",
    "# Output: [20 40]"
   ]
  },
  {
   "cell_type": "code",
   "execution_count": 23,
   "metadata": {},
   "outputs": [
    {
     "name": "stdout",
     "output_type": "stream",
     "text": [
      "[20 40 50]\n"
     ]
    }
   ],
   "source": [
    "#Fancy Indexing (Using Lists or Arrays)\n",
    "arr = np.array([10, 20, 30, 40, 50])\n",
    "\n",
    "print(arr[[1, 3, 4]])  \n",
    "# Output: [20 40 50]"
   ]
  },
  {
   "cell_type": "code",
   "execution_count": 24,
   "metadata": {},
   "outputs": [
    {
     "data": {
      "text/plain": [
       "array([ 0,  0, 30,  0,  0])"
      ]
     },
     "execution_count": 24,
     "metadata": {},
     "output_type": "execute_result"
    }
   ],
   "source": [
    "# np.where(x,y,z) can also be used to filter for values from a np array based on a given condition. \n",
    "# x = condition arr % 3 == 0, y = value if true (arr), z = value if false (0 or np.nan)\n",
    "\n",
    "np.where(arr % 3 == 0, arr, 0)\n"
   ]
  },
  {
   "cell_type": "markdown",
   "metadata": {},
   "source": [
    "### NumPy Arrays - Array Manipulations"
   ]
  },
  {
   "cell_type": "code",
   "execution_count": 27,
   "metadata": {},
   "outputs": [
    {
     "data": {
      "text/plain": [
       "array([1, 2, 3, 4, 5, 6])"
      ]
     },
     "execution_count": 27,
     "metadata": {},
     "output_type": "execute_result"
    }
   ],
   "source": [
    "arr = np.array([1, 2, 3, 4, 5])\n",
    "#You can add an element to the end of this array by using np.append(), as follows:\n",
    "arr = np.append(arr = arr, values = 6)  # arr is modified to array([1, 2, 3, 4, 5, 6])\n",
    "#Notice how this operation doesn’t occur in-place. You would have to reassign the output to a variable (arr again in this case) for the changes to stick.\n",
    "arr "
   ]
  },
  {
   "cell_type": "code",
   "execution_count": 28,
   "metadata": {},
   "outputs": [
    {
     "data": {
      "text/plain": [
       "array([1, 2, 3, 4, 5, 6, 7, 8, 9])"
      ]
     },
     "execution_count": 28,
     "metadata": {},
     "output_type": "execute_result"
    }
   ],
   "source": [
    "#Similarly, there are other functions like np.delete(), np.transpose(), np.concatenate(), and so forth. You can read about all the available array manipulation functions here. Their uses are fairly intuitive and tend to expand on existing functions from the base library. For instance, you can concatenate multiple arrays at once:\n",
    "arr1 = np.array([1, 2, 3])\n",
    "\n",
    "arr2 = np.array([4, 5, 6])\n",
    "\n",
    "arr3 = np.array([7, 8, 9])\n",
    "\n",
    "np.concatenate([arr1, arr2, arr3])"
   ]
  },
  {
   "cell_type": "code",
   "execution_count": 29,
   "metadata": {},
   "outputs": [
    {
     "data": {
      "text/plain": [
       "array([[1, 2],\n",
       "       [3, 4],\n",
       "       [5, 6]])"
      ]
     },
     "execution_count": 29,
     "metadata": {},
     "output_type": "execute_result"
    }
   ],
   "source": [
    "#Note that when you are using these functions on multidimensional arrays, you can specify the axis parameter to specify which dimensions to perform the operations on. For instance:\n",
    "mat1 = np.array([[1, 2], [3, 4]])\n",
    "mat2 = np.array([[5, 6]])\n",
    "mat3 = np.array([[7], [8]])\n",
    "np.concatenate((mat1, mat2), axis = 0) #axis = 0 for rows "
   ]
  },
  {
   "cell_type": "code",
   "execution_count": 30,
   "metadata": {},
   "outputs": [
    {
     "data": {
      "text/plain": [
       "array([[1, 2, 7],\n",
       "       [3, 4, 8]])"
      ]
     },
     "execution_count": 30,
     "metadata": {},
     "output_type": "execute_result"
    }
   ],
   "source": [
    "np.concatenate((mat1, mat3), axis = 1) #axis = 1 for columns"
   ]
  },
  {
   "cell_type": "code",
   "execution_count": 31,
   "metadata": {},
   "outputs": [],
   "source": [
    "#Notice how the dimensions must match for these operations to work as intended."
   ]
  }
 ],
 "metadata": {
  "kernelspec": {
   "display_name": "Python 3",
   "language": "python",
   "name": "python3"
  },
  "language_info": {
   "codemirror_mode": {
    "name": "ipython",
    "version": 3
   },
   "file_extension": ".py",
   "mimetype": "text/x-python",
   "name": "python",
   "nbconvert_exporter": "python",
   "pygments_lexer": "ipython3",
   "version": "3.11.9"
  }
 },
 "nbformat": 4,
 "nbformat_minor": 2
}
