{
 "cells": [
  {
   "cell_type": "markdown",
   "metadata": {},
   "source": [
    "A **NumPy array** and a **Python list** might seem similar, but they have key differences in terms of performance, functionality, and behavior.  \n",
    "\n",
    "### **1. Performance & Speed** 🚀  \n",
    "- **NumPy arrays** are **faster** than lists because they use **contiguous memory** and **vectorized operations**.  \n",
    "- **Lists** store elements in different memory locations, making operations **slower**.  \n",
    "\n",
    "🔹 **Example:** Squaring numbers in a list vs a NumPy array  \n",
    "```python\n",
    "import numpy as np\n",
    "import time\n",
    "\n",
    "lst = list(range(1_000_000))\n",
    "arr = np.array(lst)\n",
    "\n",
    "# List computation\n",
    "start = time.time()\n",
    "lst_squared = [x**2 for x in lst]\n",
    "print(\"List time:\", time.time() - start)\n",
    "\n",
    "# NumPy computation\n",
    "start = time.time()\n",
    "arr_squared = arr ** 2  # Vectorized operation\n",
    "print(\"NumPy time:\", time.time() - start)\n",
    "```\n",
    "**Result:** NumPy is **much faster** 🚀  \n",
    "\n",
    "---\n",
    "\n",
    "### **2. Memory Efficiency 📦**  \n",
    "- **NumPy arrays** use **less memory** because they store elements of the **same data type** (`int32`, `float64`, etc.).  \n",
    "- **Lists** store objects with **additional metadata**, making them **memory-heavy**.  \n",
    "\n",
    "🔹 **Example:** Checking memory size  \n",
    "```python\n",
    "import sys\n",
    "lst = [1, 2, 3, 4, 5]\n",
    "arr = np.array(lst)\n",
    "\n",
    "print(\"List size:\", sys.getsizeof(lst))    # More memory usage\n",
    "print(\"NumPy array size:\", arr.nbytes)  # Less memory usage\n",
    "```\n",
    "**Result:** NumPy arrays consume **less memory** than lists.  \n",
    "\n",
    "---\n",
    "\n",
    "### **3. Type Consistency**  \n",
    "- **NumPy arrays** enforce a **single data type** (`int`, `float`, `bool`, etc.).  \n",
    "- **Lists** can have **mixed types** (e.g., `[1, \"hello\", 3.14]`).  \n",
    "\n",
    "🔹 **Example:**  \n",
    "```python\n",
    "arr = np.array([1, 2, 3.5])\n",
    "print(arr)  # Output: [1. 2. 3.5] -> All converted to float\n",
    "```\n",
    "NumPy **automatically converts** types for efficiency.\n",
    "\n",
    "---\n",
    "\n",
    "### **4. Built-in Mathematical Operations 🧮**  \n",
    "- **NumPy arrays** support **vectorized operations** (`+, -, *, /`) directly.  \n",
    "- **Lists** require explicit looping or list comprehensions.  \n",
    "\n",
    "🔹 **Example: Adding 10 to all elements**  \n",
    "```python\n",
    "lst = [1, 2, 3, 4, 5]\n",
    "arr = np.array(lst)\n",
    "\n",
    "# List approach\n",
    "lst_plus_10 = [x + 10 for x in lst]\n",
    "\n",
    "# NumPy approach (faster!)\n",
    "arr_plus_10 = arr + 10\n",
    "```\n",
    "NumPy is **cleaner and more efficient** ✅  \n",
    "\n",
    "---\n",
    "\n",
    "### **5. Multi-dimensional Support 📊**  \n",
    "- **NumPy arrays** support **multi-dimensional arrays** (matrices, tensors).  \n",
    "- **Lists** require nested lists, making indexing & computation cumbersome.  \n",
    "\n",
    "🔹 **Example: Creating a 2D array**  \n",
    "```python\n",
    "arr = np.array([[1, 2, 3], [4, 5, 6]])  # Easy with NumPy\n",
    "print(arr.shape)  # Output: (2,3)\n",
    "```\n",
    "With lists, you’d have to manually handle indexing, leading to **complexity**.  \n",
    "\n",
    "---\n",
    "\n",
    "### **When to Use What?**  \n",
    "| Feature        | NumPy Array ✅ | Python List ❌ |\n",
    "|---------------|--------------|---------------|\n",
    "| Performance   | Fast 🚀 | Slow 🐢 |\n",
    "| Memory Usage  | Efficient 📦 | More overhead |\n",
    "| Math Operations | Built-in 🧮 | Manual looping required 🔄 |\n",
    "| Multi-Dimensional Support | Yes ✅ | No (nested lists needed) ❌ |\n",
    "| Type Consistency | Enforced 🔢 | Mixed types allowed ✅ |\n",
    "\n",
    "### **Conclusion**  \n",
    "- Use **NumPy arrays** when working with **large numerical datasets, machine learning, and data science**.  \n",
    "- Use **Python lists** for **general-purpose programming and flexibility**.  \n",
    "\n"
   ]
  },
  {
   "cell_type": "code",
   "execution_count": 1,
   "metadata": {},
   "outputs": [],
   "source": [
    "import numpy as np"
   ]
  },
  {
   "cell_type": "code",
   "execution_count": 3,
   "metadata": {},
   "outputs": [
    {
     "name": "stdout",
     "output_type": "stream",
     "text": [
      "[1, 2, 3]\n",
      "[1 2 3]\n"
     ]
    }
   ],
   "source": [
    "list = [1,2,3]\n",
    "print(list)\n",
    "arr = np.array(list) # convert a list to a numpy array\n",
    "print(arr)"
   ]
  },
  {
   "cell_type": "code",
   "execution_count": 5,
   "metadata": {},
   "outputs": [
    {
     "name": "stdout",
     "output_type": "stream",
     "text": [
      "[[1, 2, 3], [4, 5, 6], [7, 8, 9]]\n",
      "[[1 2 3]\n",
      " [4 5 6]\n",
      " [7 8 9]]\n"
     ]
    }
   ],
   "source": [
    "# 2d array\n",
    "list_2d = [[1,2,3],[4,5,6],[7,8,9]]\n",
    "print(list_2d)\n",
    "arr_2d = np.array(list_2d)\n",
    "print(arr_2d)"
   ]
  },
  {
   "cell_type": "markdown",
   "metadata": {},
   "source": []
  },
  {
   "cell_type": "code",
   "execution_count": 6,
   "metadata": {},
   "outputs": [
    {
     "data": {
      "text/plain": [
       "array([ 0,  1,  2,  3,  4,  5,  6,  7,  8,  9, 10])"
      ]
     },
     "execution_count": 6,
     "metadata": {},
     "output_type": "execute_result"
    }
   ],
   "source": [
    "#creating a numpy array with arange function\n",
    "np.arange(0,11)"
   ]
  },
  {
   "cell_type": "code",
   "execution_count": 7,
   "metadata": {},
   "outputs": [
    {
     "data": {
      "text/plain": [
       "array([ 0,  2,  4,  6,  8, 10])"
      ]
     },
     "execution_count": 7,
     "metadata": {},
     "output_type": "execute_result"
    }
   ],
   "source": [
    "#if want to jump to every 2nd digit in the arange function\n",
    "np.arange(0,11,2)"
   ]
  },
  {
   "cell_type": "code",
   "execution_count": 8,
   "metadata": {},
   "outputs": [
    {
     "data": {
      "text/plain": [
       "array([0., 0., 0.])"
      ]
     },
     "execution_count": 8,
     "metadata": {},
     "output_type": "execute_result"
    }
   ],
   "source": [
    "#if want special types of NumPy array - such as all with 0 or 1, then:\n",
    "np.zeros (3) #generates a numpy arry with all 0 float values of 3 length"
   ]
  },
  {
   "cell_type": "code",
   "execution_count": 9,
   "metadata": {},
   "outputs": [
    {
     "data": {
      "text/plain": [
       "array([[0., 0., 0., 0.],\n",
       "       [0., 0., 0., 0.],\n",
       "       [0., 0., 0., 0.]])"
      ]
     },
     "execution_count": 9,
     "metadata": {},
     "output_type": "execute_result"
    }
   ],
   "source": [
    "#if want a multi-dim array then insted of 3 like in above, pass a tupel \n",
    "np.zeros((3,4))"
   ]
  },
  {
   "cell_type": "code",
   "execution_count": 11,
   "metadata": {},
   "outputs": [
    {
     "data": {
      "text/plain": [
       "array([1., 1., 1., 1., 1.])"
      ]
     },
     "execution_count": 11,
     "metadata": {},
     "output_type": "execute_result"
    }
   ],
   "source": [
    "#similarly ones \n",
    "np.ones(5)\n",
    "#np.twos(5) this does not work"
   ]
  },
  {
   "cell_type": "code",
   "execution_count": 13,
   "metadata": {},
   "outputs": [
    {
     "data": {
      "text/plain": [
       "array([ 0.,  2.,  4.,  6.,  8., 10.])"
      ]
     },
     "execution_count": 13,
     "metadata": {},
     "output_type": "execute_result"
    }
   ],
   "source": [
    "#linspace funtion to generate a numpy array with evenly spaced numbers between a specified range\n",
    "np.linspace(0,10,6) # this returns a numpy array starting at 0, ending at 10, with evenly spaced 6 numbers in between"
   ]
  }
 ],
 "metadata": {
  "kernelspec": {
   "display_name": "Python 3",
   "language": "python",
   "name": "python3"
  },
  "language_info": {
   "codemirror_mode": {
    "name": "ipython",
    "version": 3
   },
   "file_extension": ".py",
   "mimetype": "text/x-python",
   "name": "python",
   "nbconvert_exporter": "python",
   "pygments_lexer": "ipython3",
   "version": "3.12.9"
  }
 },
 "nbformat": 4,
 "nbformat_minor": 2
}
