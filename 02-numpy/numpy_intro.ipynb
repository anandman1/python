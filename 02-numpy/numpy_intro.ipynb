{
 "cells": [
  {
   "cell_type": "markdown",
   "metadata": {},
   "source": [
    "A **NumPy array** and a **Python list** might seem similar, but they have key differences in terms of performance, functionality, and behavior.  \n",
    "\n",
    "### **1. Performance & Speed** 🚀  \n",
    "- **NumPy arrays** are **faster** than lists because they use **contiguous memory** and **vectorized operations**.  \n",
    "- **Lists** store elements in different memory locations, making operations **slower**.  \n",
    "\n",
    "🔹 **Example:** Squaring numbers in a list vs a NumPy array  \n",
    "```python\n",
    "import numpy as np\n",
    "import time\n",
    "\n",
    "lst = list(range(1_000_000))\n",
    "arr = np.array(lst)\n",
    "\n",
    "# List computation\n",
    "start = time.time()\n",
    "lst_squared = [x**2 for x in lst]\n",
    "print(\"List time:\", time.time() - start)\n",
    "\n",
    "# NumPy computation\n",
    "start = time.time()\n",
    "arr_squared = arr ** 2  # Vectorized operation\n",
    "print(\"NumPy time:\", time.time() - start)\n",
    "```\n",
    "**Result:** NumPy is **much faster** 🚀  \n",
    "\n",
    "---\n",
    "\n",
    "### **2. Memory Efficiency 📦**  \n",
    "- **NumPy arrays** use **less memory** because they store elements of the **same data type** (`int32`, `float64`, etc.).  \n",
    "- **Lists** store objects with **additional metadata**, making them **memory-heavy**.  \n",
    "\n",
    "🔹 **Example:** Checking memory size  \n",
    "```python\n",
    "import sys\n",
    "lst = [1, 2, 3, 4, 5]\n",
    "arr = np.array(lst)\n",
    "\n",
    "print(\"List size:\", sys.getsizeof(lst))    # More memory usage\n",
    "print(\"NumPy array size:\", arr.nbytes)  # Less memory usage\n",
    "```\n",
    "**Result:** NumPy arrays consume **less memory** than lists.  \n",
    "\n",
    "---\n",
    "\n",
    "### **3. Type Consistency**  \n",
    "- **NumPy arrays** enforce a **single data type** (`int`, `float`, `bool`, etc.).  \n",
    "- **Lists** can have **mixed types** (e.g., `[1, \"hello\", 3.14]`).  \n",
    "\n",
    "🔹 **Example:**  \n",
    "```python\n",
    "arr = np.array([1, 2, 3.5])\n",
    "print(arr)  # Output: [1. 2. 3.5] -> All converted to float\n",
    "```\n",
    "NumPy **automatically converts** types for efficiency.\n",
    "\n",
    "---\n",
    "\n",
    "### **4. Built-in Mathematical Operations 🧮**  \n",
    "- **NumPy arrays** support **vectorized operations** (`+, -, *, /`) directly.  \n",
    "- **Lists** require explicit looping or list comprehensions.  \n",
    "\n",
    "🔹 **Example: Adding 10 to all elements**  \n",
    "```python\n",
    "lst = [1, 2, 3, 4, 5]\n",
    "arr = np.array(lst)\n",
    "\n",
    "# List approach\n",
    "lst_plus_10 = [x + 10 for x in lst]\n",
    "\n",
    "# NumPy approach (faster!)\n",
    "arr_plus_10 = arr + 10\n",
    "```\n",
    "NumPy is **cleaner and more efficient** ✅  \n",
    "\n",
    "---\n",
    "\n",
    "### **5. Multi-dimensional Support 📊**  \n",
    "- **NumPy arrays** support **multi-dimensional arrays** (matrices, tensors).  \n",
    "- **Lists** require nested lists, making indexing & computation cumbersome.  \n",
    "\n",
    "🔹 **Example: Creating a 2D array**  \n",
    "```python\n",
    "arr = np.array([[1, 2, 3], [4, 5, 6]])  # Easy with NumPy\n",
    "print(arr.shape)  # Output: (2,3)\n",
    "```\n",
    "With lists, you’d have to manually handle indexing, leading to **complexity**.  \n",
    "\n",
    "---\n",
    "\n",
    "### **When to Use What?**  \n",
    "| Feature        | NumPy Array ✅ | Python List ❌ |\n",
    "|---------------|--------------|---------------|\n",
    "| Performance   | Fast 🚀 | Slow 🐢 |\n",
    "| Memory Usage  | Efficient 📦 | More overhead |\n",
    "| Math Operations | Built-in 🧮 | Manual looping required 🔄 |\n",
    "| Multi-Dimensional Support | Yes ✅ | No (nested lists needed) ❌ |\n",
    "| Type Consistency | Enforced 🔢 | Mixed types allowed ✅ |\n",
    "\n",
    "### **Conclusion**  \n",
    "- Use **NumPy arrays** when working with **large numerical datasets, machine learning, and data science**.  \n",
    "- Use **Python lists** for **general-purpose programming and flexibility**.  \n",
    "\n"
   ]
  },
  {
   "cell_type": "code",
   "execution_count": 1,
   "metadata": {},
   "outputs": [],
   "source": [
    "import numpy as np"
   ]
  },
  {
   "cell_type": "code",
   "execution_count": 3,
   "metadata": {},
   "outputs": [
    {
     "name": "stdout",
     "output_type": "stream",
     "text": [
      "[1, 2, 3]\n",
      "[1 2 3]\n"
     ]
    }
   ],
   "source": [
    "list = [1,2,3]\n",
    "print(list)\n",
    "arr = np.array(list) # convert a list to a numpy array\n",
    "print(arr)"
   ]
  },
  {
   "cell_type": "code",
   "execution_count": 5,
   "metadata": {},
   "outputs": [
    {
     "name": "stdout",
     "output_type": "stream",
     "text": [
      "[[1, 2, 3], [4, 5, 6], [7, 8, 9]]\n",
      "[[1 2 3]\n",
      " [4 5 6]\n",
      " [7 8 9]]\n"
     ]
    }
   ],
   "source": [
    "# 2d array\n",
    "list_2d = [[1,2,3],[4,5,6],[7,8,9]]\n",
    "print(list_2d)\n",
    "arr_2d = np.array(list_2d)\n",
    "print(arr_2d)"
   ]
  },
  {
   "cell_type": "markdown",
   "metadata": {},
   "source": []
  },
  {
   "cell_type": "code",
   "execution_count": 6,
   "metadata": {},
   "outputs": [
    {
     "data": {
      "text/plain": [
       "array([ 0,  1,  2,  3,  4,  5,  6,  7,  8,  9, 10])"
      ]
     },
     "execution_count": 6,
     "metadata": {},
     "output_type": "execute_result"
    }
   ],
   "source": [
    "#creating a numpy array with arange function\n",
    "np.arange(0,11)"
   ]
  },
  {
   "cell_type": "code",
   "execution_count": 7,
   "metadata": {},
   "outputs": [
    {
     "data": {
      "text/plain": [
       "array([ 0,  2,  4,  6,  8, 10])"
      ]
     },
     "execution_count": 7,
     "metadata": {},
     "output_type": "execute_result"
    }
   ],
   "source": [
    "#if want to jump to every 2nd digit in the arange function\n",
    "np.arange(0,11,2)"
   ]
  },
  {
   "cell_type": "code",
   "execution_count": 8,
   "metadata": {},
   "outputs": [
    {
     "data": {
      "text/plain": [
       "array([0., 0., 0.])"
      ]
     },
     "execution_count": 8,
     "metadata": {},
     "output_type": "execute_result"
    }
   ],
   "source": [
    "#if want special types of NumPy array - such as all with 0 or 1, then:\n",
    "np.zeros (3) #generates a numpy arry with all 0 float values of 3 length"
   ]
  },
  {
   "cell_type": "code",
   "execution_count": 9,
   "metadata": {},
   "outputs": [
    {
     "data": {
      "text/plain": [
       "array([[0., 0., 0., 0.],\n",
       "       [0., 0., 0., 0.],\n",
       "       [0., 0., 0., 0.]])"
      ]
     },
     "execution_count": 9,
     "metadata": {},
     "output_type": "execute_result"
    }
   ],
   "source": [
    "#if want a multi-dim array then insted of 3 like in above, pass a tupel \n",
    "np.zeros((3,4))"
   ]
  },
  {
   "cell_type": "code",
   "execution_count": 11,
   "metadata": {},
   "outputs": [
    {
     "data": {
      "text/plain": [
       "array([1., 1., 1., 1., 1.])"
      ]
     },
     "execution_count": 11,
     "metadata": {},
     "output_type": "execute_result"
    }
   ],
   "source": [
    "#similarly ones \n",
    "np.ones(5)\n",
    "#np.twos(5) this does not work"
   ]
  },
  {
   "cell_type": "code",
   "execution_count": 13,
   "metadata": {},
   "outputs": [
    {
     "data": {
      "text/plain": [
       "array([ 0.,  2.,  4.,  6.,  8., 10.])"
      ]
     },
     "execution_count": 13,
     "metadata": {},
     "output_type": "execute_result"
    }
   ],
   "source": [
    "#linspace funtion to generate a numpy array with evenly spaced numbers between a specified range\n",
    "np.linspace(0,10,6) # this returns a numpy array starting at 0, ending at 10, with evenly spaced 6 numbers in between"
   ]
  },
  {
   "cell_type": "code",
   "execution_count": 14,
   "metadata": {},
   "outputs": [
    {
     "data": {
      "text/plain": [
       "array([[1., 0., 0., 0.],\n",
       "       [0., 1., 0., 0.],\n",
       "       [0., 0., 1., 0.],\n",
       "       [0., 0., 0., 1.]])"
      ]
     },
     "execution_count": 14,
     "metadata": {},
     "output_type": "execute_result"
    }
   ],
   "source": [
    "# use 'eye(n)' function to create a nxn identiy matrix\n",
    "np.eye(4)"
   ]
  },
  {
   "cell_type": "code",
   "execution_count": 18,
   "metadata": {},
   "outputs": [
    {
     "data": {
      "text/plain": [
       "array([[0.10283535, 0.62292816, 0.06155714, 0.50463762, 0.00713049],\n",
       "       [0.47950347, 0.48308753, 0.80139384, 0.22571161, 0.07213066],\n",
       "       [0.45301642, 0.30577531, 0.2408306 , 0.42758257, 0.36633027],\n",
       "       [0.69114154, 0.86078731, 0.01584519, 0.25530143, 0.32226312]])"
      ]
     },
     "execution_count": 18,
     "metadata": {},
     "output_type": "execute_result"
    }
   ],
   "source": [
    "# to create an array with 'n' random numbers with values between 0-1 use np.ramdon.rand()\n",
    "np.random.rand(5)\n",
    "# for gaussian distribution centered around 0:\n",
    "np.random.randn(5)\n",
    "\n",
    "# for such 2 dim array with random numbers, just add n,m:\n",
    "np.random.rand(4,5)"
   ]
  },
  {
   "cell_type": "code",
   "execution_count": 21,
   "metadata": {},
   "outputs": [
    {
     "data": {
      "text/plain": [
       "array([19, 18, 19, 77, 24,  8, 48, 86,  0, 46, 90, 94, 31,  0, 12, 53, 36,\n",
       "       23, 31, 14], dtype=int32)"
      ]
     },
     "execution_count": 21,
     "metadata": {},
     "output_type": "execute_result"
    }
   ],
   "source": [
    "# for 20 integer array from start 0 (inclusive) to end 100 (not inclusive):\n",
    "np.random.randint(0,100,20)"
   ]
  },
  {
   "cell_type": "code",
   "execution_count": 24,
   "metadata": {},
   "outputs": [
    {
     "data": {
      "text/plain": [
       "array([[91, 96, 85, 58, 53],\n",
       "       [64, 63, 80, 90, 89],\n",
       "       [73,  1, 74, 11, 60],\n",
       "       [31, 90, 82, 99, 52]], dtype=int32)"
      ]
     },
     "execution_count": 24,
     "metadata": {},
     "output_type": "execute_result"
    }
   ],
   "source": [
    "# to reshape the 20 random arry values in a 4x5 matrix\n",
    "np.random.randint(0, 100, 20).reshape(4, 5)  # 4 rows, 5 columns"
   ]
  },
  {
   "cell_type": "code",
   "execution_count": 26,
   "metadata": {},
   "outputs": [
    {
     "data": {
      "text/plain": [
       "array([[59,  6, 63, 77, 69, 94, 99, 63, 76, 23],\n",
       "       [27, 82, 65, 32,  3, 15, 71, 62,  6, 11]], dtype=int32)"
      ]
     },
     "execution_count": 26,
     "metadata": {},
     "output_type": "execute_result"
    }
   ],
   "source": [
    "#reshape function works on a np array object:\n",
    "a = np.random.randint(0, 100, 20)\n",
    "a.reshape(2,10)"
   ]
  },
  {
   "cell_type": "code",
   "execution_count": 28,
   "metadata": {},
   "outputs": [
    {
     "data": {
      "text/plain": [
       "array([[24, 26, 48,  4, 42],\n",
       "       [31,  3, 98,  8, 20],\n",
       "       [ 8,  0, 28,  0, 83],\n",
       "       [60, 15, 78, 63, 84]], dtype=int32)"
      ]
     },
     "execution_count": 28,
     "metadata": {},
     "output_type": "execute_result"
    }
   ],
   "source": [
    "# direct 2d int array:\n",
    "b=np.random.randint(0, 100, (4, 5))  # Generates a 4×5 matrix\n",
    "b"
   ]
  },
  {
   "cell_type": "code",
   "execution_count": 29,
   "metadata": {},
   "outputs": [
    {
     "data": {
      "text/plain": [
       "np.int32(98)"
      ]
     },
     "execution_count": 29,
     "metadata": {},
     "output_type": "execute_result"
    }
   ],
   "source": [
    "#finding the max value in a np array:\n",
    "b.max()"
   ]
  },
  {
   "cell_type": "code",
   "execution_count": 30,
   "metadata": {},
   "outputs": [
    {
     "data": {
      "text/plain": [
       "np.int32(0)"
      ]
     },
     "execution_count": 30,
     "metadata": {},
     "output_type": "execute_result"
    }
   ],
   "source": [
    "# finding min value\n",
    "b.min()"
   ]
  },
  {
   "cell_type": "code",
   "execution_count": 33,
   "metadata": {},
   "outputs": [
    {
     "data": {
      "text/plain": [
       "np.int64(14)"
      ]
     },
     "execution_count": 33,
     "metadata": {},
     "output_type": "execute_result"
    }
   ],
   "source": [
    "#locatin of max value:\n",
    "max_loc = a.argmax()\n",
    "max_loc\n",
    "#locatin of min value:\n",
    "min_loc = a.argmin()\n",
    "min_loc"
   ]
  },
  {
   "cell_type": "code",
   "execution_count": 34,
   "metadata": {},
   "outputs": [
    {
     "data": {
      "text/plain": [
       "(4, 5)"
      ]
     },
     "execution_count": 34,
     "metadata": {},
     "output_type": "execute_result"
    }
   ],
   "source": [
    "#find shape of an array:\n",
    "b.shape"
   ]
  },
  {
   "cell_type": "code",
   "execution_count": 35,
   "metadata": {},
   "outputs": [
    {
     "data": {
      "text/plain": [
       "dtype('int32')"
      ]
     },
     "execution_count": 35,
     "metadata": {},
     "output_type": "execute_result"
    }
   ],
   "source": [
    "#find datatype in an array:\n",
    "b.dtype"
   ]
  },
  {
   "cell_type": "markdown",
   "metadata": {},
   "source": [
    "## indexing in NumPy Arrays\n",
    "a[:n] the nth index is not included"
   ]
  },
  {
   "cell_type": "code",
   "execution_count": 68,
   "metadata": {},
   "outputs": [
    {
     "name": "stdout",
     "output_type": "stream",
     "text": [
      "[46 83 22 54 97 68 61 76 54 18 92 20 45 21 12 36 36 62 90 33 53 53 53 41\n",
      " 70 90 87 39 31 99 51 80 71 74 46 56 60 65 88 36 29  0 50 52 57  4 52 51\n",
      " 49 79]\n"
     ]
    }
   ],
   "source": [
    "#indexing in np arrays:\n",
    "a=np.random.randint(0,100,50)\n",
    "print(a)\n",
    "\n",
    "c=a[:5].copy()\n"
   ]
  },
  {
   "cell_type": "code",
   "execution_count": 63,
   "metadata": {},
   "outputs": [
    {
     "data": {
      "text/plain": [
       "np.int32(0)"
      ]
     },
     "execution_count": 63,
     "metadata": {},
     "output_type": "execute_result"
    }
   ],
   "source": [
    "# to access the element at the index n use a[n]\n",
    "a[4]"
   ]
  },
  {
   "cell_type": "code",
   "execution_count": 64,
   "metadata": {},
   "outputs": [
    {
     "data": {
      "text/plain": [
       "array([95, 51,  0], dtype=int32)"
      ]
     },
     "execution_count": 64,
     "metadata": {},
     "output_type": "execute_result"
    }
   ],
   "source": [
    "#to access all the elements between the index n and m: a[n:m] \n",
    "a[2:5]"
   ]
  },
  {
   "cell_type": "code",
   "execution_count": 65,
   "metadata": {},
   "outputs": [
    {
     "data": {
      "text/plain": [
       "array([43, 17, 95, 51], dtype=int32)"
      ]
     },
     "execution_count": 65,
     "metadata": {},
     "output_type": "execute_result"
    }
   ],
   "source": [
    "#to access all the elements in a np array from start to the element at the index n use a[:n]\n",
    "a[:4]"
   ]
  },
  {
   "cell_type": "code",
   "execution_count": 66,
   "metadata": {},
   "outputs": [
    {
     "data": {
      "text/plain": [
       "array([36, 93], dtype=int32)"
      ]
     },
     "execution_count": 66,
     "metadata": {},
     "output_type": "execute_result"
    }
   ],
   "source": [
    "#similarly, to beyond the index n and go to the end of the array, use a[n:]\n",
    "a[48:]"
   ]
  },
  {
   "cell_type": "code",
   "execution_count": 72,
   "metadata": {},
   "outputs": [
    {
     "name": "stdout",
     "output_type": "stream",
     "text": [
      "copy of a in b:  [46 83 22 54 97]\n",
      "b after b[:] =100 :  [100 100 100 100 100]\n",
      "a after b[:] =100 :  [100 100 100 100 100  68  61  76  54  18]\n",
      "a[:5] origional :  [46 83 22 54 97]\n",
      "a finally restored :  [46 83 22 54 97 68 61 76 54 18]\n"
     ]
    }
   ],
   "source": [
    "\"\"\"\n",
    "if we assign a segmented part of a np array to another variable, then the new variable simply points to the segmented section of the original array and does not create a copy\n",
    "if any changes are made to the new variable they will also reflect in the original array\n",
    "to copy small/full parts of an array to another array, use np.copy()\n",
    "\"\"\"\n",
    "\n",
    "b = a[:5]\n",
    "print('copy of a in b: ', b)\n",
    "b [:]= 100\n",
    "print('b after b[:] =100 : ', b)\n",
    "print('a after b[:] =100 : ', a[:10])\n",
    "print('a[:5] origional : ',c )\n",
    "a[:5]=c[:5].copy()\n",
    "print('a finally restored : ', a[:10])"
   ]
  },
  {
   "cell_type": "code",
   "execution_count": 73,
   "metadata": {},
   "outputs": [
    {
     "name": "stdout",
     "output_type": "stream",
     "text": [
      "[[23  2 18 35  0]\n",
      " [16 30 44 26  9]\n",
      " [14 42 43 36 12]\n",
      " [23 24 41 16 11]\n",
      " [27  5 22 46 24]]\n"
     ]
    }
   ],
   "source": [
    "# indexing in 2d arrays\n",
    "d=np.random.randint(0,50,(5,5))\n",
    "print (d)"
   ]
  },
  {
   "cell_type": "code",
   "execution_count": 82,
   "metadata": {},
   "outputs": [
    {
     "name": "stdout",
     "output_type": "stream",
     "text": [
      "11\n",
      "11\n"
     ]
    }
   ],
   "source": [
    "#to access the item at the index [row][column], use:\n",
    "print(d[3][4])\n",
    "\n",
    "#same can alsi be done with [row,column]\n",
    "print(d[3,4])"
   ]
  },
  {
   "cell_type": "code",
   "execution_count": 81,
   "metadata": {},
   "outputs": [
    {
     "data": {
      "text/plain": [
       "array([23, 24, 41, 16, 11], dtype=int32)"
      ]
     },
     "execution_count": 81,
     "metadata": {},
     "output_type": "execute_result"
    }
   ],
   "source": [
    "#to access the entire [row], use\n",
    "d[3]"
   ]
  },
  {
   "cell_type": "code",
   "execution_count": 84,
   "metadata": {},
   "outputs": [
    {
     "data": {
      "text/plain": [
       "array([18, 44, 43, 41, 22], dtype=int32)"
      ]
     },
     "execution_count": 84,
     "metadata": {},
     "output_type": "execute_result"
    }
   ],
   "source": [
    "# to access just one column, use d[:,column] \n",
    "d[:,2]"
   ]
  },
  {
   "cell_type": "code",
   "execution_count": 86,
   "metadata": {},
   "outputs": [
    {
     "data": {
      "text/plain": [
       "array([[23,  2, 18, 35],\n",
       "       [16, 30, 44, 26],\n",
       "       [14, 42, 43, 36]], dtype=int32)"
      ]
     },
     "execution_count": 86,
     "metadata": {},
     "output_type": "execute_result"
    }
   ],
   "source": [
    "# to access a part of the array, lets say all the rows upto row 3, and all the columns upto column4, use:\n",
    "d[:3,:4]"
   ]
  },
  {
   "cell_type": "code",
   "execution_count": 87,
   "metadata": {},
   "outputs": [
    {
     "data": {
      "text/plain": [
       "array([[36, 12],\n",
       "       [16, 11],\n",
       "       [46, 24]], dtype=int32)"
      ]
     },
     "execution_count": 87,
     "metadata": {},
     "output_type": "execute_result"
    }
   ],
   "source": [
    "# to access a part of the array, lets say the rows from 2 upto row 5, and the columns from 3 upto column 5, use:\n",
    "d[2:5,3:5]"
   ]
  },
  {
   "cell_type": "markdown",
   "metadata": {},
   "source": [
    "### Boolean array for filtering Np array\n",
    "if a np array is compared with a value, the result is a boolean array\n"
   ]
  },
  {
   "cell_type": "code",
   "execution_count": 90,
   "metadata": {},
   "outputs": [
    {
     "name": "stdout",
     "output_type": "stream",
     "text": [
      "[46 83 22 54 97 68 61 76 54 18 92 20 45 21 12 36 36 62 90 33 53 53 53 41\n",
      " 70 90 87 39 31 99 51 80 71 74 46 56 60 65 88 36 29  0 50 52 57  4 52 51\n",
      " 49 79]\n",
      "[False  True False  True  True  True  True  True  True False  True False\n",
      " False False False False False  True  True False  True  True  True False\n",
      "  True  True  True False False  True  True  True  True  True False  True\n",
      "  True  True  True False False False False  True  True False  True  True\n",
      " False  True]\n",
      "[[ True False  True  True False]\n",
      " [ True  True  True  True False]\n",
      " [False  True  True  True False]\n",
      " [ True  True  True  True False]\n",
      " [ True False  True  True  True]]\n"
     ]
    }
   ],
   "source": [
    "print(a)\n",
    "bool_a = a > 50\n",
    "print (bool_a)\n",
    "\n",
    "bool_d = d > 15\n",
    "print(bool_d)"
   ]
  },
  {
   "cell_type": "code",
   "execution_count": 93,
   "metadata": {},
   "outputs": [
    {
     "name": "stdout",
     "output_type": "stream",
     "text": [
      "[83 54 97 68 61 76 54 92 62 90 53 53 53 70 90 87 99 51 80 71 74 56 60 65\n",
      " 88 52 57 52 51 79]\n",
      "[83 54 97 68 61 76 54 92 62 90 53 53 53 70 90 87 99 51 80 71 74 56 60 65\n",
      " 88 52 57 52 51 79]\n",
      "[23 18 35 16 30 44 26 42 43 36 23 24 41 16 27 22 46 24]\n"
     ]
    }
   ],
   "source": [
    "# bool array can be used to filter np arrays, only the values at true boolean values will be filtered\n",
    "print (a[bool_a])\n",
    "# same is possible by directly writing the comparision statement in the filter\n",
    "print (a[a>50])\n",
    "print (d[bool_d])"
   ]
  },
  {
   "cell_type": "markdown",
   "metadata": {},
   "source": [
    "# NumPy Operations"
   ]
  }
 ],
 "metadata": {
  "kernelspec": {
   "display_name": "Python 3",
   "language": "python",
   "name": "python3"
  },
  "language_info": {
   "codemirror_mode": {
    "name": "ipython",
    "version": 3
   },
   "file_extension": ".py",
   "mimetype": "text/x-python",
   "name": "python",
   "nbconvert_exporter": "python",
   "pygments_lexer": "ipython3",
   "version": "3.12.9"
  }
 },
 "nbformat": 4,
 "nbformat_minor": 2
}
