{
 "cells": [
  {
   "cell_type": "markdown",
   "metadata": {},
   "source": [
    "# Python Data Structures - Comprehensive Guide\n",
    "\n",
    "A complete reference guide for Python's built-in data structures, from basic to advanced usage."
   ]
  },
  {
   "cell_type": "markdown",
   "metadata": {},
   "source": [
    "## 1. Strings"
   ]
  },
  {
   "cell_type": "code",
   "execution_count": null,
   "metadata": {},
   "outputs": [],
   "source": [
    "# 1. Basic Creation and Access\n",
    "text = \"Hello World\"\n",
    "char = text[0]      # 'H'\n",
    "slice = text[1:5]   # 'ello'\n",
    "\n",
    "# 2. String Formatting Methods\n",
    "name, age = \"Alice\", 25\n",
    "# %-formatting\n",
    "print(\"Name: %s, Age: %d\" % (name, age))\n",
    "# .format() method\n",
    "print(\"Name: {}, Age: {}\".format(name, age))\n",
    "# f-strings (most modern)\n",
    "print(f\"Name: {name}, Age: {age}\")"
   ]
  },
  {
   "cell_type": "code",
   "execution_count": null,
   "metadata": {},
   "outputs": [],
   "source": [
    "# 3. Precision Formatting\n",
    "pi = 3.1415\n",
    "print('Pi equals: %.2f' % pi)  # 3.14\n",
    "print(f'Pi equals: {pi:.2f}')  # 3.14\n",
    "\n",
    "# 4. String Methods\n",
    "text = \"  Hello World  \"\n",
    "print(text.upper())        # HELLO WORLD\n",
    "print(text.lower())        # hello world\n",
    "print(text.strip())        # \"Hello World\"\n",
    "print(text.replace('World', 'Python'))\n",
    "print(text.split())        # ['Hello', 'World']\n",
    "print(''.join(['a', 'b', 'c']))  # 'abc'"
   ]
  },
  {
   "cell_type": "code",
   "execution_count": null,
   "metadata": {},
   "outputs": [],
   "source": [
    "# 5. String Operations\n",
    "print(ord('A'))           # 65 (ASCII value)\n",
    "print('A' > 'B')         # False\n",
    "print('Python' + 'Code')  # PythonCode\n",
    "\n",
    "# 6. Escape Sequences\n",
    "print(\"Line1\\nLine2\")     # Newline\n",
    "print(\"Tab\\tSpace\")       # Tab\n",
    "print(r\"C:\\Users\\name\")   # Raw string\n",
    "\n",
    "# 7. String Checks\n",
    "text = \"Python123\"\n",
    "print(text.isalpha())     # False\n",
    "print(text.isalnum())     # True\n",
    "print(text.isnumeric())   # False"
   ]
  },
  {
   "cell_type": "markdown",
   "metadata": {},
   "source": [
    "## 2. Lists"
   ]
  },
  {
   "cell_type": "code",
   "execution_count": null,
   "metadata": {},
   "outputs": [],
   "source": [
    "# 1. Basic Creation and Access\n",
    "lst = [1, 2, 3, 4, 5]\n",
    "empty_list = []\n",
    "mixed_list = [1, \"hello\", 3.14, True]\n",
    "\n",
    "# 2. List Operations\n",
    "print(lst[0])          # First element\n",
    "print(lst[-1])         # Last element\n",
    "print(lst[1:3])        # Slicing\n",
    "print(lst[::-1])       # Reverse"
   ]
  },
  {
   "cell_type": "code",
   "execution_count": null,
   "metadata": {},
   "outputs": [],
   "source": [
    "# 3. List Methods\n",
    "lst.append(6)          # Add to end\n",
    "lst.insert(1, 'a')    # Insert at position\n",
    "lst.extend([7, 8])    # Add multiple items\n",
    "lst.remove(3)         # Remove first occurrence\n",
    "popped = lst.pop()    # Remove and return last item\n",
    "lst.sort()            # Sort in place\n",
    "lst.reverse()         # Reverse in place\n",
    "\n",
    "# 4. List Comprehensions\n",
    "squares = [x**2 for x in range(5)]\n",
    "evens = [x for x in range(10) if x % 2 == 0]\n",
    "matrix = [[i+j for j in range(3)] for i in range(3)]"
   ]
  },
  {
   "cell_type": "code",
   "execution_count": null,
   "metadata": {},
   "outputs": [],
   "source": [
    "# 5. Advanced List Operations\n",
    "# Nested Lists\n",
    "nested = [[1, 2], [3, 4], [5, 6]]\n",
    "print(nested[1][0])    # 3\n",
    "\n",
    "# Using zip()\n",
    "l1 = [1, 2, 3]\n",
    "l2 = ['a', 'b', 'c']\n",
    "for x, y in zip(l1, l2):\n",
    "    print(f'{x}:{y}')\n",
    "\n",
    "# Using enumerate()\n",
    "for idx, val in enumerate(lst):\n",
    "    print(f\"Index {idx}: {val}\")\n",
    "\n",
    "# List conversion\n",
    "print(list('Hello'))   # ['H', 'e', 'l', 'l', 'o']\n",
    "print(list(range(1, 5)))  # [1, 2, 3, 4]"
   ]
  },
  {
   "cell_type": "markdown",
   "metadata": {},
   "source": [
    "## 3. Dictionaries"
   ]
  },
  {
   "cell_type": "code",
   "execution_count": null,
   "metadata": {},
   "outputs": [],
   "source": [
    "# 1. Basic Creation and Access\n",
    "d = {'name': 'Alice', 'age': 25}\n",
    "empty_dict = {}\n",
    "dict_constructor = dict(name='Bob', age=30)\n",
    "\n",
    "# 2. Accessing Elements\n",
    "print(d['name'])           # Direct access\n",
    "print(d.get('age'))       # Safe access\n",
    "print(d.get('city', 'Unknown'))  # With default value"
   ]
  },
  {
   "cell_type": "code",
   "execution_count": null,
   "metadata": {},
   "outputs": [],
   "source": [
    "# 3. Modifying Dictionaries\n",
    "d['city'] = 'NY'          # Add/Update\n",
    "del d['age']              # Delete key\n",
    "popped = d.pop('name')    # Remove and return\n",
    "d.update({'x': 1, 'y': 2})  # Merge/Update multiple\n",
    "\n",
    "# 4. Dictionary Methods\n",
    "print(d.keys())           # dict_keys object\n",
    "print(d.values())         # dict_values object\n",
    "print(d.items())          # dict_items object\n",
    "d.clear()                 # Remove all items"
   ]
  },
  {
   "cell_type": "code",
   "execution_count": null,
   "metadata": {},
   "outputs": [],
   "source": [
    "# 5. Dictionary Comprehensions\n",
    "squares = {x: x**2 for x in range(5)}\n",
    "filtered = {k: v for k, v in d.items() if v > 5}\n",
    "\n",
    "# 6. Advanced Operations\n",
    "# Nested dictionaries\n",
    "nested = {\n",
    "    'user1': {'name': 'Alice', 'age': 25},\n",
    "    'user2': {'name': 'Bob', 'age': 30}\n",
    "}\n",
    "print(nested['user1']['name'])  # Alice\n",
    "\n",
    "# Dictionary merging (Python 3.9+)\n",
    "dict1 = {'a': 1, 'b': 2}\n",
    "dict2 = {'c': 3, 'd': 4}\n",
    "merged = dict1 | dict2"
   ]
  },
  {
   "cell_type": "markdown",
   "metadata": {},
   "source": [
    "## 4. Tuples"
   ]
  },
  {
   "cell_type": "code",
   "execution_count": null,
   "metadata": {},
   "outputs": [],
   "source": [
    "# 1. Basic Creation\n",
    "t = (1, 2, 3)\n",
    "single_tuple = (1,)       # Note the comma\n",
    "empty_tuple = ()\n",
    "\n",
    "# 2. Tuple Operations\n",
    "print(t[0])              # Indexing\n",
    "print(t[1:3])           # Slicing\n",
    "print(t + (4, 5))       # Concatenation\n",
    "print(t * 2)            # Repetition"
   ]
  },
  {
   "cell_type": "code",
   "execution_count": null,
   "metadata": {},
   "outputs": [],
   "source": [
    "# 3. Tuple Methods\n",
    "print(t.count(1))       # Count occurrences\n",
    "print(t.index(2))       # Find index\n",
    "\n",
    "# 4. Tuple Unpacking\n",
    "x, y, z = t             # Basic unpacking\n",
    "first, *rest = t        # With rest operator\n",
    "_, second, _ = t        # Ignoring values"
   ]
  },
  {
   "cell_type": "code",
   "execution_count": null,
   "metadata": {},
   "outputs": [],
   "source": [
    "# 5. Advanced Usage\n",
    "# As dictionary keys\n",
    "dict_with_tuple = {(1, 2): 'value'}\n",
    "\n",
    "# Named tuples (from collections)\n",
    "from collections import namedtuple\n",
    "Person = namedtuple('Person', ['name', 'age'])\n",
    "person = Person('Alice', 25)\n",
    "print(person.name)      # Alice"
   ]
  },
  {
   "cell_type": "markdown",
   "metadata": {},
   "source": [
    "## 5. Sets"
   ]
  },
  {
   "cell_type": "code",
   "execution_count": null,
   "metadata": {},
   "outputs": [],
   "source": [
    "# 1. Basic Creation\n",
    "s = {1, 2, 3}\n",
    "empty_set = set()       # Not {}\n",
    "set_from_list = set([1, 2, 2, 3])  # Duplicates removed\n",
    "\n",
    "# 2. Set Methods\n",
    "s.add(4)               # Add element\n",
    "s.remove(1)            # Remove (raises error if missing)\n",
    "s.discard(5)          # Remove (no error if missing)\n",
    "popped = s.pop()      # Remove and return arbitrary element\n",
    "s.clear()             # Remove all elements"
   ]
  },
  {
   "cell_type": "code",
   "execution_count": null,
   "metadata": {},
   "outputs": [],
   "source": [
    "# 3. Set Operations\n",
    "a = {1, 2, 3}\n",
    "b = {3, 4, 5}\n",
    "print(a | b)          # Union\n",
    "print(a & b)          # Intersection\n",
    "print(a - b)          # Difference\n",
    "print(a ^ b)          # Symmetric difference\n",
    "\n",
    "# 4. Method Versions of Set Operations\n",
    "print(a.union(b))\n",
    "print(a.intersection(b))\n",
    "print(a.difference(b))\n",
    "print(a.symmetric_difference(b))"
   ]
  },
  {
   "cell_type": "code",
   "execution_count": null,
   "metadata": {},
   "outputs": [],
   "source": [
    "# 5. Set Comprehensions\n",
    "squares = {x**2 for x in range(5)}\n",
    "evens = {x for x in range(10) if x % 2 == 0}\n",
    "\n",
    "# 6. Advanced Set Operations\n",
    "# Subset/Superset checks\n",
    "a = {1, 2}\n",
    "b = {1, 2, 3}\n",
    "print(a.issubset(b))    # True\n",
    "print(b.issuperset(a))  # True\n",
    "\n",
    "# Frozen sets (immutable)\n",
    "frozen = frozenset([1, 2, 3])"
   ]
  }
 ],
 "metadata": {
  "kernelspec": {
   "display_name": "Python 3",
   "language": "python",
   "name": "python3"
  },
  "language_info": {
   "codemirror_mode": {
    "name": "ipython",
    "version": 3
   },
   "file_extension": ".py",
   "mimetype": "text/x-python",
   "name": "python",
   "nbconvert_exporter": "python",
   "pygments_lexer": "ipython3",
   "version": "3.8.0"
  }
 },
 "nbformat": 4,
 "nbformat_minor": 4
}
