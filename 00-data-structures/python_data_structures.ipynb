{
 "cells": [
  {
   "cell_type": "markdown",
   "metadata": {},
   "source": [
    "1. String\n",
    "2. List\n",
    "3. Dictionary \n",
    "4. Tupel\n",
    "5. Set \n"
   ]
  },
  {
   "cell_type": "markdown",
   "metadata": {},
   "source": [
    "1. String: \n",
    "Strings are list of characters and can be formatted to hold information such as variables and expressions, making the strings more dynamic"
   ]
  },
  {
   "cell_type": "code",
   "execution_count": 2,
   "metadata": {},
   "outputs": [
    {
     "name": "stdout",
     "output_type": "stream",
     "text": [
      "<class 'str'>\n"
     ]
    }
   ],
   "source": [
    "answer = 'The number'\n",
    "print(type(answer))"
   ]
  },
  {
   "cell_type": "code",
   "execution_count": 3,
   "metadata": {},
   "outputs": [
    {
     "data": {
      "text/plain": [
       "'he'"
      ]
     },
     "execution_count": 3,
     "metadata": {},
     "output_type": "execute_result"
    }
   ],
   "source": [
    "answer[1:3]"
   ]
  },
  {
   "cell_type": "markdown",
   "metadata": {},
   "source": [
    "We can use the % operator to format strings to include other variables: \n"
   ]
  },
  {
   "cell_type": "code",
   "execution_count": 4,
   "metadata": {},
   "outputs": [
    {
     "name": "stdout",
     "output_type": "stream",
     "text": [
      "The number I have chosen is 12345 and pi equals 3.141500.\n"
     ]
    }
   ],
   "source": [
    "my_int = 12345\n",
    "my_float = 3.1415\n",
    "answer = 'The number I have chosen is %d and pi equals %f.' % (my_int, my_float)\n",
    "print(answer)"
   ]
  },
  {
   "cell_type": "markdown",
   "metadata": {},
   "source": [
    "Here, the %d represents a decimal (base 10) integer, whereas %f represents a floating point number. There are several other representations that are less commonly used, such as %o for an octal (base 8) integer and %x for a hexadecimal (base 16) integer."
   ]
  },
  {
   "cell_type": "code",
   "execution_count": 6,
   "metadata": {},
   "outputs": [
    {
     "name": "stdout",
     "output_type": "stream",
     "text": [
      "Pi equals : 3.14\n"
     ]
    }
   ],
   "source": [
    "#Floats can be further provided to provide the level of precision:  \n",
    "print('Pi equals : %.2f'% my_float)\n"
   ]
  },
  {
   "cell_type": "markdown",
   "metadata": {},
   "source": [
    "Furthermore, strings can also be formatted using the .format() method. You may use empty braces {}, in which case the values or variables you pass to the .format() method will appear in the order you provide"
   ]
  },
  {
   "cell_type": "code",
   "execution_count": 2,
   "metadata": {},
   "outputs": [
    {
     "name": "stdout",
     "output_type": "stream",
     "text": [
      "3+4.50005=7.50005\n"
     ]
    }
   ],
   "source": [
    "a = 3\n",
    "\n",
    "b = 4.50005\n",
    "\n",
    "total = 7.50005\n",
    "\n",
    "answer = '{}+{}={}'.format(a,b,total)\n",
    "print(answer)"
   ]
  },
  {
   "cell_type": "code",
   "execution_count": null,
   "metadata": {},
   "outputs": [],
   "source": []
  },
  {
   "cell_type": "markdown",
   "metadata": {},
   "source": [
    "f-strings are an intuitive way to modify strings by having the variables present within the strings themselves.These strings are depicted by an f to the left of the string:"
   ]
  },
  {
   "cell_type": "code",
   "execution_count": 7,
   "metadata": {},
   "outputs": [
    {
     "name": "stdout",
     "output_type": "stream",
     "text": [
      "3 + 4.50 = 7.50\n"
     ]
    }
   ],
   "source": [
    "answer = f'{a} + {b:.2f} = {total:.2f}'\n",
    "print(answer)"
   ]
  },
  {
   "cell_type": "markdown",
   "metadata": {},
   "source": [
    "# **Escape Sequences in Python Strings**\n",
    "\n",
    "Escape sequences are special character combinations used in strings to represent characters that are difficult or impossible to type directly. They start with a backslash (`\\`) followed by a specific character.\n",
    "\n",
    "## **Common Escape Sequences in Python**\n",
    "\n",
    "| Escape Sequence | Description | Example | Output |\n",
    "|----------------|-------------|---------|--------|\n",
    "| `\\'` | Single quote | `'It\\'s a nice day'` | `\"It's a nice day\"` |\n",
    "| `\\\"` | Double quote | `\"He said, \\\"Hello!\\\"\"` | `\"He said, \"Hello!\"` |\n",
    "| `\\\\` | Backslash | `\"C:\\\\Users\\\\Admin\"` | `\"C:\\Users\\Admin\"` |\n",
    "| `\\n` | Newline | `\"Hello\\nWorld\"` | *(New line between Hello and World)* |\n",
    "| `\\t` | Tab space | `\"Python\\tProgramming\"` | `\"Python    Programming\"` |\n",
    "| `\\r` | Carriage return | `\"Hello\\rWorld\"` | `\"World\"` (overwrites `Hello`) |\n",
    "| `\\b` | Backspace | `\"Hello\\bWorld\"` | `\"HellWorld\"` (removes `o`) |\n",
    "| `\\f` | Form feed (new page) | `\"Hello\\fWorld\"` | *(New page effect in some editors)* |\n",
    "| `\\v` | Vertical tab | `\"Hello\\vWorld\"` | *(New line with vertical spacing)* |\n",
    "| `\\ooo` | Octal value | `\"\\101\\102\\103\"` | `\"ABC\"` |\n",
    "| `\\xhh` | Hexadecimal value | `\"\\x41\\x42\\x43\"` | `\"ABC\"` |\n",
    "\n",
    "---"
   ]
  },
  {
   "cell_type": "code",
   "execution_count": 14,
   "metadata": {},
   "outputs": [
    {
     "name": "stdout",
     "output_type": "stream",
     "text": [
      "Hello\n",
      "World\n",
      "Python\tProgramming\n",
      "He said, \"Hello!\"\n",
      "It's a beautiful day!\n",
      "C:\\Users\\Admin\n",
      "C:\\Users\\Admin\\Documents\n"
     ]
    }
   ],
   "source": [
    "## **Examples**\n",
    "\n",
    "### **1. Using escape sequences in print statements**\n",
    "\n",
    "print(\"Hello\\nWorld\")  # Newline\n",
    "print(\"Python\\tProgramming\")  # Tab space\n",
    "print(\"He said, \\\"Hello!\\\"\")  # Double quotes\n",
    "print('It\\'s a beautiful day!')  # Single quote\n",
    "print(\"C:\\\\Users\\\\Admin\")  # Backslash\n",
    "\n",
    "### 2. Using raw strings (r'') to ignore escape sequences\n",
    "\n",
    "print(r\"C:\\Users\\Admin\\Documents\")  # Output: C:\\Users\\Admin\\Documents\n"
   ]
  },
  {
   "cell_type": "markdown",
   "metadata": {},
   "source": [
    "## Operations on Strings "
   ]
  },
  {
   "cell_type": "code",
   "execution_count": 16,
   "metadata": {},
   "outputs": [
    {
     "data": {
      "text/plain": [
       "66"
      ]
     },
     "execution_count": 16,
     "metadata": {},
     "output_type": "execute_result"
    }
   ],
   "source": [
    "ord('A')\n",
    "ord('B')"
   ]
  },
  {
   "cell_type": "code",
   "execution_count": 17,
   "metadata": {},
   "outputs": [
    {
     "data": {
      "text/plain": [
       "False"
      ]
     },
     "execution_count": 17,
     "metadata": {},
     "output_type": "execute_result"
    }
   ],
   "source": [
    "'A'>'B'"
   ]
  },
  {
   "cell_type": "code",
   "execution_count": 18,
   "metadata": {},
   "outputs": [
    {
     "data": {
      "text/plain": [
       "True"
      ]
     },
     "execution_count": 18,
     "metadata": {},
     "output_type": "execute_result"
    }
   ],
   "source": [
    "'Python' > 'Pything' "
   ]
  },
  {
   "cell_type": "code",
   "execution_count": 19,
   "metadata": {},
   "outputs": [
    {
     "data": {
      "text/plain": [
       "'PythonPything'"
      ]
     },
     "execution_count": 19,
     "metadata": {},
     "output_type": "execute_result"
    }
   ],
   "source": [
    "'Python' + 'Pything' "
   ]
  },
  {
   "cell_type": "markdown",
   "metadata": {},
   "source": [
    "## String Methods"
   ]
  },
  {
   "cell_type": "markdown",
   "metadata": {},
   "source": [
    "# **String Methods in Python**\n",
    "\n",
    "Python provides several built-in string methods to manipulate and analyze strings. Below is a list of commonly used string methods with examples.\n",
    "\n",
    "---"
   ]
  },
  {
   "cell_type": "markdown",
   "metadata": {},
   "source": [
    "## **1. Changing Case**\n",
    "| Method | Description | Example | Output |\n",
    "|--------|-------------|---------|--------|\n",
    "| `.upper()` | Converts all characters to uppercase | `\"hello\".upper()` | `\"HELLO\"` |\n",
    "| `.lower()` | Converts all characters to lowercase | `\"HELLO\".lower()` | `\"hello\"` |\n",
    "| `.capitalize()` | Capitalizes the first letter | `\"hello world\".capitalize()` | `\"Hello world\"` |\n",
    "| `.title()` | Capitalizes the first letter of each word | `\"hello world\".title()` | `\"Hello World\"` |\n",
    "| `.swapcase()` | Swaps uppercase to lowercase and vice versa | `\"HeLLo WoRLD\".swapcase()` | `\"hEllO wOrld\"` |\n"
   ]
  },
  {
   "cell_type": "code",
   "execution_count": 21,
   "metadata": {},
   "outputs": [
    {
     "name": "stdout",
     "output_type": "stream",
     "text": [
      "HELLO WORLD\n",
      "hello world\n",
      "Hello world\n",
      "Hello World\n",
      "HELLO WORLD\n"
     ]
    }
   ],
   "source": [
    "### **Example**\n",
    "\n",
    "text = \"hello world\"\n",
    "print(text.upper())    # HELLO WORLD\n",
    "print(text.lower())    # hello world\n",
    "print(text.capitalize())  # Hello world\n",
    "print(text.title())    # Hello World\n",
    "print(text.swapcase()) # HELLO WORLD"
   ]
  },
  {
   "cell_type": "code",
   "execution_count": 22,
   "metadata": {},
   "outputs": [
    {
     "name": "stdout",
     "output_type": "stream",
     "text": [
      "False\n",
      "False\n",
      "True\n",
      "True\n",
      "True\n",
      "True\n",
      "True\n",
      "False\n"
     ]
    }
   ],
   "source": [
    "## 2. Checking String Properties\n",
    "\n",
    "text = \"Python123\"\n",
    "\n",
    "print(text.isupper())      # False: Not all uppercase\n",
    "print(text.islower())      # False: Not all lowercase\n",
    "print(\"HELLO\".isupper())   # True: All uppercase\n",
    "print(\"hello\".islower())   # True: All lowercase\n",
    "print(\"123\".isnumeric())   # True: Contains only numeric characters (includes Unicode numbers)\n",
    "print(\"123\".isdigit())     # True: Contains only digits (0-9)\n",
    "print(\"Hello\".isalpha())   # True: Contains only letters\n",
    "print(\"Hello123\".isalpha()) # False: Contains numbers too\n"
   ]
  },
  {
   "cell_type": "code",
   "execution_count": 25,
   "metadata": {},
   "outputs": [
    {
     "name": "stdout",
     "output_type": "stream",
     "text": [
      "2\n",
      "2\n",
      "-1\n",
      "3\n",
      "True\n"
     ]
    }
   ],
   "source": [
    "## 3. Finding and Counting Substrings\n",
    "text = \"banana\"\n",
    "\n",
    "print(text.index(\"n\"))   # Returns index of first 'n': 2\n",
    "print(text.find(\"n\"))    # Same as index: 2\n",
    "print(text.find(\"z\"))    # Returns -1 (not found)\n",
    "print(text.count(\"a\"))   # Counts occurrences of 'a': 3\n",
    "print('n' in text)"
   ]
  },
  {
   "cell_type": "code",
   "execution_count": 32,
   "metadata": {},
   "outputs": [
    {
     "name": "stdout",
     "output_type": "stream",
     "text": [
      "hello Python\n",
      "['apple', 'banana', 'grape']\n",
      "hello world\n",
      "hello world   \n",
      "   hello world\n",
      "Python is awesome\n",
      "Python-is-awesome\n"
     ]
    }
   ],
   "source": [
    "## modifying strings\n",
    "text = \"hello world\"\n",
    "\n",
    "print(text.replace(\"world\", \"Python\"))  # \"hello Python\"\n",
    "\n",
    "fruits = \"apple,banana,grape\"\n",
    "print(fruits.split(','))  # Splits by comma: ['apple', 'banana', 'grape']\n",
    "\n",
    "text = \"   hello world   \"\n",
    "print(text.strip())   # Removes spaces: \"hello world\"\n",
    "print(text.lstrip())  # Removes leading spaces: \"hello world   \"\n",
    "print(text.rstrip())  # Removes trailing spaces: \"   hello world\"\n",
    "\n",
    "words = [\"Python\", \"is\", \"awesome\"]\n",
    "print(\" \".join(words))   # \"Python is awesome\"\n",
    "print(\"-\".join(words))   # \"Python-is-awesome\"\n"
   ]
  },
  {
   "cell_type": "markdown",
   "metadata": {},
   "source": [
    "# **Python List Data Structure**\n",
    "\n",
    "A **list** is a built-in data structure in Python that allows us to store multiple elements in an ordered, mutable sequence.\n",
    "\n",
    "---\n"
   ]
  },
  {
   "cell_type": "code",
   "execution_count": 33,
   "metadata": {},
   "outputs": [],
   "source": [
    "## **1. Creating Lists**\n",
    "\n",
    "### **Empty Lists: We can create an empty list in two ways:\n",
    "\n",
    "empty_list = []\n",
    "empty_list = list()"
   ]
  },
  {
   "cell_type": "code",
   "execution_count": 1,
   "metadata": {},
   "outputs": [],
   "source": [
    "#Lists with Elements\n",
    "#Lists can store multiple elements, including different data types:\n",
    "\n",
    "list1 = [1, 2, 3, 4, 5]  # List of numbers\n",
    "list2 = [1, 'a', True, 'abc', 3.14]  # List with mixed data types"
   ]
  },
  {
   "cell_type": "code",
   "execution_count": 4,
   "metadata": {},
   "outputs": [
    {
     "name": "stdout",
     "output_type": "stream",
     "text": [
      "['H', 'e', 'l', 'l', 'o', ' ', 'w', 'o', 'r', 'l', 'd', '!']\n",
      "[1, 2, 3, 4, 5, 6, 7, 8, 9]\n",
      "[1, 3, 5, 7, 9]\n"
     ]
    }
   ],
   "source": [
    "#Converting Other Sequences to Lists\n",
    "#We can convert other sequences (like strings, ranges, tuples) to lists using list().\n",
    "\n",
    "print(list('Hello world!'))  # ['H', 'e', 'l', 'l', 'o', ' ', 'w', 'o', 'r', 'l', 'd', '!']\n",
    "\n",
    "print(list(range(1, 10)))    # [1, 2, 3, 4, 5, 6, 7, 8, 9]\n",
    "print(list(range(1, 10,2)))    # start at 1 but select every 2nd number"
   ]
  },
  {
   "cell_type": "code",
   "execution_count": 6,
   "metadata": {},
   "outputs": [
    {
     "name": "stdout",
     "output_type": "stream",
     "text": [
      "['this', 'is', 'sample', 'text']\n"
     ]
    }
   ],
   "source": [
    "#Splitting a String into a List\n",
    "#The .split() method converts a string into a list based on spaces (default) or a specified delimiter.\n",
    "text = 'this is sample text'\n",
    "print(list(text.split(' ')))"
   ]
  },
  {
   "cell_type": "code",
   "execution_count": 12,
   "metadata": {},
   "outputs": [
    {
     "name": "stdout",
     "output_type": "stream",
     "text": [
      "[3, 4]\n",
      "3\n"
     ]
    }
   ],
   "source": [
    "#Nested Lists (Lists within Lists)\n",
    "#Lists can contain other lists, forming nested structures.\n",
    "\n",
    "nested_list = [[1, 2], [3, 4], [5, 6, 7]]\n",
    "print(nested_list[1])  # [3, 4]\n",
    "print(nested_list[1][0])  # 3\n"
   ]
  },
  {
   "cell_type": "markdown",
   "metadata": {},
   "source": [
    "## 2. Accessing List Elements\n",
    "Lists support indexing and slicing."
   ]
  },
  {
   "cell_type": "code",
   "execution_count": 13,
   "metadata": {},
   "outputs": [
    {
     "name": "stdout",
     "output_type": "stream",
     "text": [
      "a\n",
      "d\n"
     ]
    }
   ],
   "source": [
    "#indxing \n",
    "my_list = ['a', 'b', 'c', 'd']\n",
    "print(my_list[0])  # First element: 'a'\n",
    "print(my_list[-1])  # Last element: 'd'"
   ]
  },
  {
   "cell_type": "code",
   "execution_count": 14,
   "metadata": {},
   "outputs": [
    {
     "name": "stdout",
     "output_type": "stream",
     "text": [
      "['b', 'c']\n",
      "['a', 'b']\n",
      "['a', 'c']\n"
     ]
    }
   ],
   "source": [
    "#Slicing\n",
    "print(my_list[1:3])  # ['b', 'c']\n",
    "print(my_list[:2])   # ['a', 'b'] (first two elements)\n",
    "print(my_list[::2])  # ['a', 'c'] (every second element)\n",
    "\n"
   ]
  },
  {
   "cell_type": "code",
   "execution_count": 15,
   "metadata": {},
   "outputs": [
    {
     "name": "stdout",
     "output_type": "stream",
     "text": [
      "['a', 'x', 'c', 'd']\n"
     ]
    }
   ],
   "source": [
    "# Modifying Lists\n",
    "# Lists are mutable, meaning we can change their contents.\n",
    "\n",
    "my_list[1] = 'x'\n",
    "print(my_list)  # ['a', 'x', 'c', 'd']"
   ]
  },
  {
   "cell_type": "code",
   "execution_count": 16,
   "metadata": {},
   "outputs": [
    {
     "name": "stdout",
     "output_type": "stream",
     "text": [
      "['a', 'x', 'c', 'd', 'e']\n",
      "['a', 'x', 'y', 'c', 'd', 'e']\n"
     ]
    }
   ],
   "source": [
    "#Adding Elements\n",
    "\n",
    "my_list.append('e')  # Adds to the end\n",
    "print(my_list)  # ['a', 'x', 'c', 'd', 'e']\n",
    "\n",
    "my_list.insert(2, 'y')  # Inserts 'y' at index 2\n",
    "print(my_list)  # ['a', 'x', 'y', 'c', 'd', 'e']"
   ]
  },
  {
   "cell_type": "code",
   "execution_count": 17,
   "metadata": {},
   "outputs": [
    {
     "name": "stdout",
     "output_type": "stream",
     "text": [
      "['a', 'y', 'c', 'd', 'e']\n",
      "e\n",
      "['a', 'y', 'c', 'd']\n"
     ]
    }
   ],
   "source": [
    "#Removing Elements\n",
    "my_list.remove('x')  # Removes first occurrence of 'x'\n",
    "print(my_list)  # ['a', 'y', 'c', 'd', 'e']\n",
    "\n",
    "popped = my_list.pop()  # Removes last element and returns it\n",
    "print(popped)  # 'e'\n",
    "print(my_list)  # ['a', 'y', 'c', 'd']"
   ]
  },
  {
   "cell_type": "markdown",
   "metadata": {},
   "source": [
    "## **Common List Methods in Python**\n",
    "\n",
    "| Method         | Description                                           | Example               | Output          |\n",
    "|---------------|------------------------------------------------------|-----------------------|----------------|\n",
    "| `.append(x)`  | Adds `x` to the end of the list                      | `my_list.append(10)`  | `[...]`        |\n",
    "| `.insert(i, x)` | Inserts `x` at index `i`                           | `my_list.insert(1, 20)` | `[...]`      |\n",
    "| `.remove(x)`  | Removes the first occurrence of `x`                  | `my_list.remove(5)`   | `[...]`        |\n",
    "| `.pop(i)`     | Removes and returns element at index `i` (default: last) | `my_list.pop(2)` | `[...]`        |\n",
    "| `.index(x)`   | Returns index of first occurrence of `x`             | `my_list.index(3)`    | `2`            |\n",
    "| `.count(x)`   | Counts occurrences of `x`                            | `my_list.count(4)`    | `1`            |\n",
    "| `.sort()`     | Sorts the list in ascending order                     | `my_list.sort()`      | `[1, 2, 3]`    |\n",
    "| `.reverse()`  | Reverses the list                                    | `my_list.reverse()`   | `[3, 2, 1]`    |\n",
    "| `.clear()`    | Removes all elements                                 | `my_list.clear()`     | `[]`           |\n",
    "\n"
   ]
  },
  {
   "cell_type": "code",
   "execution_count": 18,
   "metadata": {},
   "outputs": [
    {
     "name": "stdout",
     "output_type": "stream",
     "text": [
      "[1, 1, 2, 3, 4, 5, 9]\n",
      "[9, 5, 4, 3, 2, 1, 1]\n",
      "2\n",
      "[]\n"
     ]
    }
   ],
   "source": [
    "# examples\n",
    "numbers = [3, 1, 4, 1, 5, 9, 2]\n",
    "numbers.sort()  # Sorts in ascending order\n",
    "print(numbers)  # [1, 1, 2, 3, 4, 5, 9]\n",
    "\n",
    "numbers.reverse()  # Reverses the list\n",
    "print(numbers)  # [9, 5, 4, 3, 2, 1, 1]\n",
    "\n",
    "print(numbers.count(1))  # Count occurrences of 1: 2\n",
    "\n",
    "numbers.clear()  # Remove all elements\n",
    "print(numbers)  # []\n"
   ]
  },
  {
   "cell_type": "markdown",
   "metadata": {},
   "source": [
    "## List Comprehensions\n",
    "Python provides a concise way to create lists.\n"
   ]
  },
  {
   "cell_type": "code",
   "execution_count": 21,
   "metadata": {},
   "outputs": [
    {
     "name": "stdout",
     "output_type": "stream",
     "text": [
      "[1, 4, 9, 16, 25]\n",
      "[1, 4, 1, 16, 1]\n"
     ]
    }
   ],
   "source": [
    "#Creating a List Using a Loop\n",
    "sq = [x**2 for x in range(1,6)]\n",
    "print (sq)\n",
    "\n",
    "#conditional element addition\n",
    "sq2 = [x**2 if x%2 == 0 else x**0 for x in range (1,6)]\n",
    "print (sq2)"
   ]
  },
  {
   "cell_type": "markdown",
   "metadata": {},
   "source": [
    "## **Common Built-in Functions for Lists in Python**\n",
    "\n",
    "| Function        | Description                           |\n",
    "|---------------|-----------------------------------|\n",
    "| `len(list)`   | Returns the number of elements in the list |\n",
    "| `sum(list)`   | Returns the sum of numeric elements |\n",
    "| `max(list)`   | Returns the maximum element |\n",
    "| `min(list)`   | Returns the minimum element |\n",
    "| `sorted(list)` | Returns a sorted copy of the list |\n",
    "| `list.sort()` | Sorts the list in place |\n",
    "| `list.reverse()` | Reverses the list in place |\n",
    "| `list.index(x)` | Returns the index of `x` |\n",
    "| `list.count(x)` | Returns the count of `x` in the list |\n",
    "| `x in list`   | Checks if `x` is present in the list |\n",
    "| `list1.extend(list2)` | adds elements from another iterable (like a list, tuple, or set) to the end of a list |"
   ]
  },
  {
   "cell_type": "code",
   "execution_count": 29,
   "metadata": {},
   "outputs": [
    {
     "name": "stdout",
     "output_type": "stream",
     "text": [
      "1:a\n",
      "2:b\n",
      "3:c\n",
      "[]\n"
     ]
    }
   ],
   "source": [
    "## **Using `zip()` to Combine Lists in Python**\n",
    "\n",
    "#The `zip()` function pairs elements from multiple lists together into **tuples**.\n",
    "\n",
    "### **Example:**\n",
    "\n",
    "l1 = [1, 2, 3]\n",
    "l2 = ['a', 'b', 'c']\n",
    "\n",
    "zipped_list = zip(l1, l2)  # Creates a zip object\n",
    "#print(list(zipped_list))   # Converts to a list of tuples\n",
    "for a,b in list(zipped_list):\n",
    "    print(f'{a}:{b}')\n",
    "\n",
    "print(list(zipped_list))"
   ]
  },
  {
   "cell_type": "markdown",
   "metadata": {},
   "source": [
    "Key Points:\n",
    "The zip() function pairs elements based on their index.\n",
    "\n",
    "If the lists are of unequal length, zip() stops at the shortest list.\n",
    "\n",
    "The result is a zip object, which can be converted into a list(), tuple(), or dict(). This object is a zip object, which is a kind of generator. A generator gets depleted once used."
   ]
  },
  {
   "cell_type": "code",
   "execution_count": 31,
   "metadata": {},
   "outputs": [
    {
     "name": "stdout",
     "output_type": "stream",
     "text": [
      "0 apple\n",
      "1 banana\n",
      "2 cherry\n"
     ]
    }
   ],
   "source": [
    "## **Using `enumerate()` in Python**\n",
    "\n",
    "#The `enumerate()` function adds an **index** to each item in an iterable (like a list, tuple, or string). It returns an `enumerate` object, which can be converted into a list of tuples.\n",
    "\n",
    "### **Example: Using `enumerate()` with a List**\n",
    "\n",
    "fruits = [\"apple\", \"banana\", \"cherry\"]\n",
    "\n",
    "for index, fruit in enumerate(fruits):\n",
    "    print(index, fruit)\n"
   ]
  },
  {
   "cell_type": "markdown",
   "metadata": {},
   "source": [
    "## Dictionary in Python"
   ]
  },
  {
   "cell_type": "code",
   "execution_count": 33,
   "metadata": {},
   "outputs": [
    {
     "name": "stdout",
     "output_type": "stream",
     "text": [
      "{'name': 'Alice', 'age': 25, 'city': 'New York'}\n",
      "{'name': 'Bob', 'age': 22, 'city': 'Los Angeles'}\n"
     ]
    }
   ],
   "source": [
    "# **📌 Python Data Structures: Dictionaries**\n",
    "\n",
    "# A **dictionary** in Python is an **unordered, mutable collection** that stores **key-value** pairs.\n",
    "\n",
    "\n",
    "## **1️⃣ Creating Dictionaries**\n",
    "# Dictionaries can be created using `{}` or the `dict()` function.\n",
    "\n",
    "\n",
    "# Creating a dictionary\n",
    "student = {\n",
    "    \"name\": \"Alice\",\n",
    "    \"age\": 25,\n",
    "    \"city\": \"New York\"\n",
    "}\n",
    "\n",
    "# Using the dict() function\n",
    "student2 = dict(name=\"Bob\", age=22, city=\"Los Angeles\")\n",
    "\n",
    "print(student)\n",
    "print(student2)\n"
   ]
  },
  {
   "cell_type": "code",
   "execution_count": 35,
   "metadata": {},
   "outputs": [
    {
     "name": "stdout",
     "output_type": "stream",
     "text": [
      "Alice\n",
      "25\n",
      "None\n"
     ]
    }
   ],
   "source": [
    "# Accessing Dictionary Elements\n",
    "#You can access dictionary values using keys.\n",
    "\n",
    "print(student[\"name\"])  # Output: Alice\n",
    "print(student.get(\"age\"))  # Output: 25\n",
    "\n",
    "#⚠️ .get() is safer than dict[key] as it returns None if the key does not exist.\n",
    "print(student.get(\"test\"))"
   ]
  },
  {
   "cell_type": "code",
   "execution_count": 37,
   "metadata": {},
   "outputs": [
    {
     "name": "stdout",
     "output_type": "stream",
     "text": [
      "{'name': 'Alice', 'age': 26, 'city': 'New York', 'grade': 'A'}\n"
     ]
    }
   ],
   "source": [
    "##  Operations on Dictionaries\n",
    "# 🔹 Adding and Updating Entries\n",
    "\n",
    "student[\"grade\"] = \"A\"  # Adding a new key-value pair\n",
    "student[\"age\"] = 26  # Updating an existing value\n",
    "print(student)"
   ]
  },
  {
   "cell_type": "code",
   "execution_count": 38,
   "metadata": {},
   "outputs": [
    {
     "name": "stdout",
     "output_type": "stream",
     "text": [
      "{'name': 'Alice', 'age': 26, 'grade': 'A'}\n",
      "A\n",
      "{'name': 'Alice', 'age': 26}\n"
     ]
    }
   ],
   "source": [
    "#🔹 Removing Entries\n",
    "del student[\"city\"]  # Removing a key-value pair\n",
    "print(student)\n",
    "\n",
    "grade = student.pop(\"grade\")  # Removes and returns the value\n",
    "print(grade)\n",
    "print(student)"
   ]
  },
  {
   "cell_type": "code",
   "execution_count": 39,
   "metadata": {},
   "outputs": [
    {
     "name": "stdout",
     "output_type": "stream",
     "text": [
      "True\n",
      "False\n"
     ]
    }
   ],
   "source": [
    "#🔹 Checking Key Existence\n",
    "print(\"name\" in student)  # Output: True\n",
    "print(\"city\" in student)  # Output: False\n"
   ]
  },
  {
   "cell_type": "markdown",
   "metadata": {},
   "source": [
    "### **4️⃣ Dictionary Methods**\n",
    "\n",
    "| Method | Description |\n",
    "|--------|-------------|\n",
    "| `dict.keys()` | Returns all keys |\n",
    "| `dict.values()` | Returns all values |\n",
    "| `dict.items()` | Returns key-value pairs |\n",
    "| `dict.get(key, default)` | Returns value for key, or `default` if key is missing |\n",
    "| `dict.update(other_dict)` | Merges another dictionary into the current one |\n",
    "| `dict.pop(key)` | Removes key and returns its value |\n",
    "| `dict.clear()` | Removes all items from the dictionary |\n"
   ]
  },
  {
   "cell_type": "code",
   "execution_count": 40,
   "metadata": {},
   "outputs": [
    {
     "name": "stdout",
     "output_type": "stream",
     "text": [
      "name : Alice\n",
      "age : 26\n"
     ]
    }
   ],
   "source": [
    "#🔹 Iterating Over a Dictionary\n",
    "\n",
    "for key, value in student.items():\n",
    "    print(key, \":\", value)"
   ]
  },
  {
   "cell_type": "code",
   "execution_count": 41,
   "metadata": {},
   "outputs": [
    {
     "name": "stdout",
     "output_type": "stream",
     "text": [
      "dict_keys(['name', 'age', 'city'])\n",
      "dict_values(['Alice', 25, 'New York'])\n",
      "dict_items([('name', 'Alice'), ('age', 25), ('city', 'New York')])\n"
     ]
    }
   ],
   "source": [
    "#Example: Using Dictionary Methods\n",
    "\n",
    "student = {\"name\": \"Alice\", \"age\": 25, \"city\": \"New York\"}\n",
    "\n",
    "print(student.keys())   # Output: dict_keys(['name', 'age', 'city'])\n",
    "print(student.values()) # Output: dict_values(['Alice', 25, 'New York'])\n",
    "print(student.items())  # Output: dict_items([('name', 'Alice'), ('age', 25), ('city', 'New York')])\n"
   ]
  },
  {
   "cell_type": "code",
   "execution_count": 45,
   "metadata": {},
   "outputs": [
    {
     "name": "stdout",
     "output_type": "stream",
     "text": [
      "{1: 1, 2: 4, 3: 1, 4: 16, 5: 1}\n",
      "{'apple': 5, 'cherry': 7}\n"
     ]
    }
   ],
   "source": [
    "#5️⃣ Dictionary Comprehensions\n",
    "#Dictionary comprehensions allow creating dictionaries concisely.\n",
    "\n",
    "#🔹 Example: Creating a Dictionary\n",
    "squares = {x:x**2 if x%2 ==0 else x**0 for x in range(1,6) }\n",
    "print(squares)\n",
    "\n",
    "#🔹 Example: Filtering a Dictionary\n",
    "original = {\"apple\": 5, \"banana\": 3, \"cherry\": 7}\n",
    "filtered = {k: v for k, v in original.items() if v > 4}\n",
    "print(filtered)  # Output: {'apple': 5, 'cherry': 7}\n"
   ]
  },
  {
   "cell_type": "markdown",
   "metadata": {},
   "source": [
    "# **📌 Python Data Structures: Tuples**\n",
    "\n",
    "A **tuple** in Python is an **immutable, ordered collection** of elements.\n"
   ]
  },
  {
   "cell_type": "code",
   "execution_count": 46,
   "metadata": {},
   "outputs": [
    {
     "name": "stdout",
     "output_type": "stream",
     "text": [
      "(1, 2, 3, 4, 5)\n",
      "(1, 'Python', True, 3.14)\n",
      "()\n",
      "(42,)\n"
     ]
    }
   ],
   "source": [
    "## **1️⃣ Creating Tuples**\n",
    "#Tuples can be created using **parentheses `()`** or the `tuple()` function.\n",
    "\n",
    "# Creating a tuple\n",
    "numbers = (1, 2, 3, 4, 5)\n",
    "mixed_tuple = (1, \"Python\", True, 3.14)\n",
    "\n",
    "# Using the tuple() function\n",
    "empty_tuple = tuple()\n",
    "single_element_tuple = (42,)  # Note the comma, otherwise it's not a tuple!\n",
    "\n",
    "print(numbers)\n",
    "print(mixed_tuple)\n",
    "print(empty_tuple)\n",
    "print(single_element_tuple)"
   ]
  },
  {
   "cell_type": "code",
   "execution_count": 47,
   "metadata": {},
   "outputs": [
    {
     "name": "stdout",
     "output_type": "stream",
     "text": [
      "1\n",
      "5\n",
      "(2, 3, 4)\n",
      "(1, 2, 3)\n",
      "(1, 3, 5)\n"
     ]
    }
   ],
   "source": [
    "# 2️⃣ Accessing, Indexing, and Slicing Tuples\n",
    "# Tuples support indexing, slicing, and iteration like lists.\n",
    "\n",
    "# Indexing\n",
    "print(numbers[0])   # Output: 1\n",
    "print(numbers[-1])  # Output: 5\n",
    "\n",
    "# Slicing\n",
    "print(numbers[1:4])  # Output: (2, 3, 4)\n",
    "print(numbers[:3])   # Output: (1, 2, 3)\n",
    "print(numbers[::2])  # Output: (1, 3, 5)\n"
   ]
  },
  {
   "cell_type": "code",
   "execution_count": 49,
   "metadata": {},
   "outputs": [],
   "source": [
    "#⚠️ Tuples are immutable, meaning their elements cannot be changed after creation.\n",
    "#numbers[0] = 10  # ❌ This will raise an error"
   ]
  },
  {
   "cell_type": "markdown",
   "metadata": {},
   "source": [
    "### 🔹 Tuple Operations\n",
    "\n",
    "| Operation | Description | Example | Output |\n",
    "|-----------|------------|---------|--------|\n",
    "| `+` | Concatenation | `(1, 2) + (3, 4)` | `(1, 2, 3, 4)` |\n",
    "| `*` | Repetition | `('a',) * 3` | `('a', 'a', 'a')` |\n",
    "| `in` | Membership test | `3 in (1, 2, 3)` | `True` |\n",
    "| `len()` | Length of tuple | `len((1,2,3))` | `3` |\n"
   ]
  },
  {
   "cell_type": "code",
   "execution_count": 51,
   "metadata": {},
   "outputs": [
    {
     "name": "stdout",
     "output_type": "stream",
     "text": [
      "apple\n",
      "banana\n",
      "cherry\n",
      "2 is in the tuple!\n"
     ]
    }
   ],
   "source": [
    "#3️⃣ Control Flow with Tuples\n",
    "#Tuples are iterable, making them useful in loops and conditions.\n",
    "\n",
    "# Iterating over a tuple\n",
    "fruits = (\"apple\", \"banana\", \"cherry\")\n",
    "for fruit in fruits:\n",
    "    print(fruit)\n",
    "\n",
    "# Using tuples in conditions\n",
    "t = (1, 2, 3)\n",
    "if 2 in t:\n",
    "    print(\"2 is in the tuple!\")"
   ]
  },
  {
   "cell_type": "code",
   "execution_count": 56,
   "metadata": {},
   "outputs": [
    {
     "name": "stdout",
     "output_type": "stream",
     "text": [
      "Alice\n",
      "25\n",
      "Engineer\n",
      "ele1 : Alice\n",
      "ele3 : Engineer\n"
     ]
    }
   ],
   "source": [
    "#4️⃣ Unpacking Tuples\n",
    "#Tuple unpacking allows assigning values to multiple variables at once.\n",
    "\n",
    "person = (\"Alice\", 25, \"Engineer\")\n",
    "name, age, profession = person\n",
    "\n",
    "print(name)       # Output: Alice\n",
    "print(age)        # Output: 25\n",
    "print(profession) # Output: Engineer\n",
    "\n",
    "#if you do not need to use every element from a tuple, consider using an asterisk to assign the remaining elements of the tuple to a variable as a list:\n",
    "ele1, *rest = person\n",
    "print('ele1 :', ele1)\n",
    "\n",
    "#Also note that unpacking can work with other sequences, such as lists, but is most commonly used with tuples owing to the fact that functions with multiple return values output them. Oftentimes, you would only want some of the function outputs. You can discard the rest. By convention, you would use underscores to represent these discarded elements:\n",
    "_, _, ele3 = person\n",
    "print ('ele3 :', ele3)"
   ]
  },
  {
   "cell_type": "markdown",
   "metadata": {},
   "source": [
    "# **📌 Python Data Structures: Sets**\n",
    "\n",
    "A **set** in Python is an **unordered, mutable collection** of **unique** elements."
   ]
  },
  {
   "cell_type": "code",
   "execution_count": 57,
   "metadata": {},
   "outputs": [
    {
     "name": "stdout",
     "output_type": "stream",
     "text": [
      "{'banana', 'apple', 'cherry'}\n",
      "set()\n",
      "{'l', 'h', 'e', 'o'}\n",
      "{1, 2, 3}\n"
     ]
    }
   ],
   "source": [
    "## **1️⃣ Creating Sets**\n",
    "#Sets can be created using **curly braces `{}`** or the `set()` function.\n",
    "\n",
    "\n",
    "# Creating a set\n",
    "fruits = {\"apple\", \"banana\", \"cherry\"}\n",
    "\n",
    "# Creating an empty set\n",
    "empty_set = set()  # {} creates an empty dictionary, not a set\n",
    "\n",
    "# Using the set() function\n",
    "letters = set(\"hello\")  # Output: {'h', 'e', 'l', 'o'}\n",
    "numbers = set([1, 2, 3, 3, 2])  # Output: {1, 2, 3}\n",
    "\n",
    "print(fruits)\n",
    "print(empty_set)\n",
    "print(letters)\n",
    "print(numbers)"
   ]
  },
  {
   "cell_type": "code",
   "execution_count": 58,
   "metadata": {},
   "outputs": [
    {
     "name": "stdout",
     "output_type": "stream",
     "text": [
      "banana\n",
      "apple\n",
      "cherry\n"
     ]
    }
   ],
   "source": [
    "#2️⃣ Accessing Set Elements\n",
    "#Sets are unordered, so they do not support indexing or slicing.\n",
    "#print(fruits[0])  # ❌ This will raise an error\n",
    "\n",
    "#Instead, you can iterate over the elements:\n",
    "for fruit in fruits:\n",
    "    print(fruit)"
   ]
  },
  {
   "cell_type": "markdown",
   "metadata": {},
   "source": [
    "### 🔹 Set Operations Table\n",
    "\n",
    "| Operation | Description | Example | Output |\n",
    "|-----------|------------|---------|--------|\n",
    "| `A | B`  | Union | `{1, 2} | {2, 3}` | `{1, 2, 3}` |\n",
    "| `A & B`  | Intersection | `{1, 2} & {2, 3}` | `{2}` |\n",
    "| `A - B`  | Difference | `{1, 2} - {2, 3}` | `{1}` |\n",
    "| `A ^ B`  | Symmetric Difference | `{1, 2} ^ {2, 3}` | `{1, 3}` |\n"
   ]
  },
  {
   "cell_type": "code",
   "execution_count": 61,
   "metadata": {},
   "outputs": [
    {
     "name": "stdout",
     "output_type": "stream",
     "text": [
      "{1, 2, 3, 4, 5, 6}\n",
      "{3, 4}\n",
      "{1, 2}\n",
      "{5, 6}\n",
      "{1, 2, 5, 6}\n"
     ]
    }
   ],
   "source": [
    "#3️⃣ Set Operations\n",
    "#Sets support mathematical union, intersection, difference, and symmetric difference operations.\n",
    "A = {1, 2, 3, 4}\n",
    "B = {3, 4, 5, 6}\n",
    "\n",
    "# Union (A ∪ B) - Combines elements from both sets\n",
    "print(A | B)  # Output: {1, 2, 3, 4, 5, 6}\n",
    "\n",
    "# Intersection (A ∩ B) - Common elements\n",
    "print(A & B)  # Output: {3, 4}\n",
    "\n",
    "# Difference (A - B) - Elements in A but not in B\n",
    "print(A - B)  # Output: {1, 2}\n",
    "\n",
    "# Difference (B - A) - Elements in B but not in A\n",
    "print(B - A)  # Output: {5, 6}\n",
    "\n",
    "# Symmetric Difference (A Δ B) - Elements in A or B, but not both\n",
    "print(A ^ B)  # Output: {1, 2, 5, 6}\n"
   ]
  },
  {
   "cell_type": "markdown",
   "metadata": {},
   "source": [
    "### 🔹 Set Methods Table\n",
    "\n",
    "| Method | Description |\n",
    "|--------|------------|\n",
    "| `set.add(x)` | Adds element `x` to the set |\n",
    "| `set.remove(x)` | Removes `x` from the set (raises error if not found) |\n",
    "| `set.discard(x)` | Removes `x` from the set (no error if missing) |\n",
    "| `set.pop()` | Removes and returns a random element |\n",
    "| `set.clear()` | Removes all elements from the set |\n",
    "| `set.union(other)` | Returns a new set with elements from both sets |\n",
    "| `set.intersection(other)` | Returns a set with common elements |\n",
    "| `set.difference(other)` | Returns elements in the set but not in `other` |\n",
    "| `set.symmetric_difference(other)` | Returns elements in either set, but not both |\n"
   ]
  },
  {
   "cell_type": "code",
   "execution_count": 64,
   "metadata": {},
   "outputs": [
    {
     "name": "stdout",
     "output_type": "stream",
     "text": [
      "{'orange'}\n",
      "orange set()\n",
      "set()\n",
      "False\n",
      "True\n"
     ]
    }
   ],
   "source": [
    "#4️⃣ Modifying Sets\n",
    "#Sets are mutable, meaning elements can be added or removed.\n",
    "\n",
    "# Adding elements\n",
    "fruits.add(\"orange\")\n",
    "print(fruits)  # Output: {'apple', 'banana', 'cherry', 'orange'}\n",
    "\n",
    "# Removing elements\n",
    "#fruits.remove(\"banana\")  # Raises an error if element doesn't exist\n",
    "fruits.discard(\"mango\")  # No error if element is missing\n",
    "\n",
    "# Removing and returning a random element\n",
    "removed_element = fruits.pop()\n",
    "print(removed_element, fruits)\n",
    "\n",
    "# Clearing the entire set\n",
    "fruits.clear()\n",
    "print(fruits)  # Output: set()\n",
    "\n",
    "#5️⃣ Checking Set Membership\n",
    "print(\"apple\" in fruits)  # Output: True\n",
    "print(\"mango\" not in fruits)  # Output: True\n"
   ]
  },
  {
   "cell_type": "code",
   "execution_count": 65,
   "metadata": {},
   "outputs": [
    {
     "name": "stdout",
     "output_type": "stream",
     "text": [
      "{1, 4, 9, 16, 25}\n",
      "{0, 2, 4, 6, 8}\n"
     ]
    }
   ],
   "source": [
    "#7️⃣ Set Comprehensions\n",
    "#Just like list comprehensions, you can create sets using set comprehensions.\n",
    "\n",
    "# Creating a set of squares\n",
    "squares = {x**2 for x in range(1, 6)}\n",
    "print(squares)  # Output: {1, 4, 9, 16, 25}\n",
    "\n",
    "# Creating a set with only even numbers\n",
    "evens = {x for x in range(10) if x % 2 == 0}\n",
    "print(evens)  # Output: {0, 2, 4, 6, 8}\n"
   ]
  }
 ],
 "metadata": {
  "kernelspec": {
   "display_name": "Python 3",
   "language": "python",
   "name": "python3"
  },
  "language_info": {
   "codemirror_mode": {
    "name": "ipython",
    "version": 3
   },
   "file_extension": ".py",
   "mimetype": "text/x-python",
   "name": "python",
   "nbconvert_exporter": "python",
   "pygments_lexer": "ipython3",
   "version": "3.12.4"
  }
 },
 "nbformat": 4,
 "nbformat_minor": 2
}
